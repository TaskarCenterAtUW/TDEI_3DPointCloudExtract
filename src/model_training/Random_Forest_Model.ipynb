{
 "cells": [
  {
   "cell_type": "code",
   "execution_count": 2,
   "id": "774da98e",
   "metadata": {},
   "outputs": [],
   "source": [
    "import pandas as pd\n",
    "import numpy as np\n",
    "import warnings\n",
    "warnings.simplefilter(action='ignore', category=FutureWarning)\n",
    "import math\n",
    "import numpy as np\n",
    "from sklearn.datasets import make_classification\n",
    "from sklearn import svm\n",
    "from sklearn.model_selection import train_test_split\n",
    "from sklearn.model_selection import cross_val_score\n",
    "import matplotlib.pyplot as plt\n",
    "from tqdm import tqdm\n",
    "#import alphashape\n",
    "import random\n",
    "random.seed(10)\n"
   ]
  },
  {
   "cell_type": "code",
   "execution_count": 3,
   "id": "78f2a9b4",
   "metadata": {},
   "outputs": [],
   "source": [
    "# Function to perform Normalization of the columns of the dataframes\n",
    "def absolute_maximum_scale(series):\n",
    "    return series / series.abs().max()\n"
   ]
  },
  {
   "cell_type": "markdown",
   "id": "22b41d49",
   "metadata": {},
   "source": [
    "### West -1"
   ]
  },
  {
   "cell_type": "code",
   "execution_count": 4,
   "id": "c12452a8",
   "metadata": {},
   "outputs": [
    {
     "name": "stdout",
     "output_type": "stream",
     "text": [
      "(5000, 13)\n"
     ]
    },
    {
     "data": {
      "text/html": [
       "<div>\n",
       "<style scoped>\n",
       "    .dataframe tbody tr th:only-of-type {\n",
       "        vertical-align: middle;\n",
       "    }\n",
       "\n",
       "    .dataframe tbody tr th {\n",
       "        vertical-align: top;\n",
       "    }\n",
       "\n",
       "    .dataframe thead th {\n",
       "        text-align: right;\n",
       "    }\n",
       "</style>\n",
       "<table border=\"1\" class=\"dataframe\">\n",
       "  <thead>\n",
       "    <tr style=\"text-align: right;\">\n",
       "      <th></th>\n",
       "      <th>X</th>\n",
       "      <th>Y</th>\n",
       "      <th>Z</th>\n",
       "      <th>N_X</th>\n",
       "      <th>N_Y</th>\n",
       "      <th>N_Z</th>\n",
       "      <th>label</th>\n",
       "    </tr>\n",
       "  </thead>\n",
       "  <tbody>\n",
       "    <tr>\n",
       "      <th>2381</th>\n",
       "      <td>0.999987</td>\n",
       "      <td>0.999960</td>\n",
       "      <td>0.999607</td>\n",
       "      <td>0.031471</td>\n",
       "      <td>-0.034334</td>\n",
       "      <td>-1.000000</td>\n",
       "      <td>ceiling</td>\n",
       "    </tr>\n",
       "    <tr>\n",
       "      <th>4939</th>\n",
       "      <td>0.999985</td>\n",
       "      <td>0.999981</td>\n",
       "      <td>0.999627</td>\n",
       "      <td>-0.003393</td>\n",
       "      <td>0.026428</td>\n",
       "      <td>-0.999497</td>\n",
       "      <td>ceiling</td>\n",
       "    </tr>\n",
       "  </tbody>\n",
       "</table>\n",
       "</div>"
      ],
      "text/plain": [
       "             X         Y         Z       N_X       N_Y       N_Z    label\n",
       "2381  0.999987  0.999960  0.999607  0.031471 -0.034334 -1.000000  ceiling\n",
       "4939  0.999985  0.999981  0.999627 -0.003393  0.026428 -0.999497  ceiling"
      ]
     },
     "execution_count": 4,
     "metadata": {},
     "output_type": "execute_result"
    }
   ],
   "source": [
    "#ceiling_data -west1\n",
    "\n",
    "df_west_1_ceiling =  pd.read_csv('/Users/qwert/Documents/TASKAR/data/sampled_normal_data/west_1/Sampled_Normals/west1_normal_ceiling_1.csv')\n",
    "df_west_1_ceiling.rename(columns = {'//X':'X', 'Nz':'N_Z','Nx':'N_X', 'Ny':'N_Y'}, inplace = True)\n",
    "df_west_1_ceiling_smp = df_west_1_ceiling[['X','Y','Z','N_X','N_Y','N_Z']].dropna(subset=['Y']).sample(n = 2000)\n",
    "\n",
    "for col in df_west_1_ceiling_smp.columns:\n",
    "    df_west_1_ceiling_smp[col] = absolute_maximum_scale(df_west_1_ceiling_smp[col])\n",
    "\n",
    "df_west_1_ceiling_smp['label'] = 'ceiling'\n",
    "\n",
    "print(df_west_1_ceiling.shape)\n",
    "\n",
    "df_west_1_ceiling_smp.head(2)"
   ]
  },
  {
   "cell_type": "code",
   "execution_count": 5,
   "id": "fd1b240f",
   "metadata": {},
   "outputs": [
    {
     "name": "stdout",
     "output_type": "stream",
     "text": [
      "(2000, 7)\n"
     ]
    },
    {
     "data": {
      "text/html": [
       "<div>\n",
       "<style scoped>\n",
       "    .dataframe tbody tr th:only-of-type {\n",
       "        vertical-align: middle;\n",
       "    }\n",
       "\n",
       "    .dataframe tbody tr th {\n",
       "        vertical-align: top;\n",
       "    }\n",
       "\n",
       "    .dataframe thead th {\n",
       "        text-align: right;\n",
       "    }\n",
       "</style>\n",
       "<table border=\"1\" class=\"dataframe\">\n",
       "  <thead>\n",
       "    <tr style=\"text-align: right;\">\n",
       "      <th></th>\n",
       "      <th>X</th>\n",
       "      <th>Y</th>\n",
       "      <th>Z</th>\n",
       "      <th>N_X</th>\n",
       "      <th>N_Y</th>\n",
       "      <th>N_Z</th>\n",
       "      <th>label</th>\n",
       "    </tr>\n",
       "  </thead>\n",
       "  <tbody>\n",
       "    <tr>\n",
       "      <th>630</th>\n",
       "      <td>0.999994</td>\n",
       "      <td>0.999981</td>\n",
       "      <td>0.998959</td>\n",
       "      <td>-0.052808</td>\n",
       "      <td>0.029804</td>\n",
       "      <td>0.999965</td>\n",
       "      <td>floor</td>\n",
       "    </tr>\n",
       "    <tr>\n",
       "      <th>1713</th>\n",
       "      <td>0.999995</td>\n",
       "      <td>0.999969</td>\n",
       "      <td>0.998845</td>\n",
       "      <td>0.024622</td>\n",
       "      <td>-0.018160</td>\n",
       "      <td>0.999973</td>\n",
       "      <td>floor</td>\n",
       "    </tr>\n",
       "  </tbody>\n",
       "</table>\n",
       "</div>"
      ],
      "text/plain": [
       "             X         Y         Z       N_X       N_Y       N_Z  label\n",
       "630   0.999994  0.999981  0.998959 -0.052808  0.029804  0.999965  floor\n",
       "1713  0.999995  0.999969  0.998845  0.024622 -0.018160  0.999973  floor"
      ]
     },
     "execution_count": 5,
     "metadata": {},
     "output_type": "execute_result"
    }
   ],
   "source": [
    "#floor_data - west2\n",
    "\n",
    "df_west_1_floor =  pd.read_csv('/Users/qwert/Documents/TASKAR/data/sampled_normal_data/west_1/Sampled_Normals/west1_normal_floor_1.csv')\n",
    "df_west_1_floor.rename(columns = {'//X':'X', 'Nz':'N_Z','Nx':'N_X', 'Ny':'N_Y'}, inplace = True)\n",
    "df_west_1_floor_smp = df_west_1_floor[['X','Y','Z','N_X','N_Y','N_Z']].dropna(subset=['Y']).sample(n = 2000)\n",
    "\n",
    "for col in df_west_1_floor_smp.columns:\n",
    "    df_west_1_floor_smp[col] = absolute_maximum_scale(df_west_1_floor_smp[col])\n",
    "\n",
    "df_west_1_floor_smp['label'] = 'floor'\n",
    "\n",
    "print(df_west_1_floor_smp.shape)\n",
    "\n",
    "df_west_1_floor_smp.head(2)"
   ]
  },
  {
   "cell_type": "code",
   "execution_count": 6,
   "id": "96f9dbbf",
   "metadata": {},
   "outputs": [
    {
     "data": {
      "text/html": [
       "<div>\n",
       "<style scoped>\n",
       "    .dataframe tbody tr th:only-of-type {\n",
       "        vertical-align: middle;\n",
       "    }\n",
       "\n",
       "    .dataframe tbody tr th {\n",
       "        vertical-align: top;\n",
       "    }\n",
       "\n",
       "    .dataframe thead th {\n",
       "        text-align: right;\n",
       "    }\n",
       "</style>\n",
       "<table border=\"1\" class=\"dataframe\">\n",
       "  <thead>\n",
       "    <tr style=\"text-align: right;\">\n",
       "      <th></th>\n",
       "      <th>X</th>\n",
       "      <th>Y</th>\n",
       "      <th>Z</th>\n",
       "      <th>N_X</th>\n",
       "      <th>N_Y</th>\n",
       "      <th>N_Z</th>\n",
       "      <th>label</th>\n",
       "    </tr>\n",
       "  </thead>\n",
       "  <tbody>\n",
       "    <tr>\n",
       "      <th>2381</th>\n",
       "      <td>0.999987</td>\n",
       "      <td>0.999960</td>\n",
       "      <td>0.999607</td>\n",
       "      <td>0.031471</td>\n",
       "      <td>-0.034334</td>\n",
       "      <td>-1.000000</td>\n",
       "      <td>ceiling</td>\n",
       "    </tr>\n",
       "    <tr>\n",
       "      <th>4939</th>\n",
       "      <td>0.999985</td>\n",
       "      <td>0.999981</td>\n",
       "      <td>0.999627</td>\n",
       "      <td>-0.003393</td>\n",
       "      <td>0.026428</td>\n",
       "      <td>-0.999497</td>\n",
       "      <td>ceiling</td>\n",
       "    </tr>\n",
       "    <tr>\n",
       "      <th>2352</th>\n",
       "      <td>0.999984</td>\n",
       "      <td>0.999968</td>\n",
       "      <td>0.999607</td>\n",
       "      <td>-0.007811</td>\n",
       "      <td>-0.003400</td>\n",
       "      <td>-0.999858</td>\n",
       "      <td>ceiling</td>\n",
       "    </tr>\n",
       "  </tbody>\n",
       "</table>\n",
       "</div>"
      ],
      "text/plain": [
       "             X         Y         Z       N_X       N_Y       N_Z    label\n",
       "2381  0.999987  0.999960  0.999607  0.031471 -0.034334 -1.000000  ceiling\n",
       "4939  0.999985  0.999981  0.999627 -0.003393  0.026428 -0.999497  ceiling\n",
       "2352  0.999984  0.999968  0.999607 -0.007811 -0.003400 -0.999858  ceiling"
      ]
     },
     "execution_count": 6,
     "metadata": {},
     "output_type": "execute_result"
    }
   ],
   "source": [
    "# WEST 1 FULL DATASET\n",
    "\n",
    "final_df_west_1 = pd.concat([df_west_1_ceiling_smp, df_west_1_floor_smp], axis=0)\n",
    "final_df_west_1.head(3)"
   ]
  },
  {
   "cell_type": "markdown",
   "id": "e4845fd9",
   "metadata": {},
   "source": [
    "### West -2"
   ]
  },
  {
   "cell_type": "code",
   "execution_count": 7,
   "id": "cadf5825",
   "metadata": {},
   "outputs": [
    {
     "name": "stdout",
     "output_type": "stream",
     "text": [
      "(2000, 7)\n"
     ]
    },
    {
     "data": {
      "text/html": [
       "<div>\n",
       "<style scoped>\n",
       "    .dataframe tbody tr th:only-of-type {\n",
       "        vertical-align: middle;\n",
       "    }\n",
       "\n",
       "    .dataframe tbody tr th {\n",
       "        vertical-align: top;\n",
       "    }\n",
       "\n",
       "    .dataframe thead th {\n",
       "        text-align: right;\n",
       "    }\n",
       "</style>\n",
       "<table border=\"1\" class=\"dataframe\">\n",
       "  <thead>\n",
       "    <tr style=\"text-align: right;\">\n",
       "      <th></th>\n",
       "      <th>X</th>\n",
       "      <th>Y</th>\n",
       "      <th>Z</th>\n",
       "      <th>N_X</th>\n",
       "      <th>N_Y</th>\n",
       "      <th>N_Z</th>\n",
       "      <th>label</th>\n",
       "    </tr>\n",
       "  </thead>\n",
       "  <tbody>\n",
       "    <tr>\n",
       "      <th>18399</th>\n",
       "      <td>0.999980</td>\n",
       "      <td>0.999956</td>\n",
       "      <td>0.999661</td>\n",
       "      <td>0.107104</td>\n",
       "      <td>-0.030122</td>\n",
       "      <td>0.994325</td>\n",
       "      <td>ceiling</td>\n",
       "    </tr>\n",
       "    <tr>\n",
       "      <th>547755</th>\n",
       "      <td>0.999979</td>\n",
       "      <td>0.999940</td>\n",
       "      <td>0.999648</td>\n",
       "      <td>-0.058918</td>\n",
       "      <td>0.131620</td>\n",
       "      <td>0.989970</td>\n",
       "      <td>ceiling</td>\n",
       "    </tr>\n",
       "  </tbody>\n",
       "</table>\n",
       "</div>"
      ],
      "text/plain": [
       "               X         Y         Z       N_X       N_Y       N_Z    label\n",
       "18399   0.999980  0.999956  0.999661  0.107104 -0.030122  0.994325  ceiling\n",
       "547755  0.999979  0.999940  0.999648 -0.058918  0.131620  0.989970  ceiling"
      ]
     },
     "execution_count": 7,
     "metadata": {},
     "output_type": "execute_result"
    }
   ],
   "source": [
    "#ceiling_data -west2\n",
    "\n",
    "df_west_2_ceiling =  pd.read_csv('/Users/qwert/Documents/TASKAR/data/sampled_normal_data/west_2/Sampled_Normals/west2_ceiling_normal_sampled.csv')\n",
    "df_west_2_ceiling.rename(columns = {'//X':'X', 'Nz':'N_Z','Nx':'N_X', 'Ny':'N_Y'}, inplace = True)\n",
    "df_west_2_ceiling_smp = df_west_2_ceiling[['X','Y','Z','N_X','N_Y','N_Z']].dropna(subset=['Y']).sample(n = 2000)\n",
    "\n",
    "for col in df_west_2_ceiling_smp.columns:\n",
    "    df_west_2_ceiling_smp[col] = absolute_maximum_scale(df_west_2_ceiling_smp[col])\n",
    "\n",
    "df_west_2_ceiling_smp['label'] = 'ceiling'\n",
    "print(df_west_2_ceiling_smp.shape)\n",
    "\n",
    "df_west_2_ceiling_smp.head(2)"
   ]
  },
  {
   "cell_type": "code",
   "execution_count": 8,
   "id": "b9c13927",
   "metadata": {},
   "outputs": [
    {
     "name": "stdout",
     "output_type": "stream",
     "text": [
      "(2000, 7)\n"
     ]
    },
    {
     "data": {
      "text/html": [
       "<div>\n",
       "<style scoped>\n",
       "    .dataframe tbody tr th:only-of-type {\n",
       "        vertical-align: middle;\n",
       "    }\n",
       "\n",
       "    .dataframe tbody tr th {\n",
       "        vertical-align: top;\n",
       "    }\n",
       "\n",
       "    .dataframe thead th {\n",
       "        text-align: right;\n",
       "    }\n",
       "</style>\n",
       "<table border=\"1\" class=\"dataframe\">\n",
       "  <thead>\n",
       "    <tr style=\"text-align: right;\">\n",
       "      <th></th>\n",
       "      <th>X</th>\n",
       "      <th>Y</th>\n",
       "      <th>Z</th>\n",
       "      <th>N_X</th>\n",
       "      <th>N_Y</th>\n",
       "      <th>N_Z</th>\n",
       "      <th>label</th>\n",
       "    </tr>\n",
       "  </thead>\n",
       "  <tbody>\n",
       "    <tr>\n",
       "      <th>319852</th>\n",
       "      <td>0.999997</td>\n",
       "      <td>0.999954</td>\n",
       "      <td>0.996805</td>\n",
       "      <td>0.120311</td>\n",
       "      <td>0.209703</td>\n",
       "      <td>0.978191</td>\n",
       "      <td>floor</td>\n",
       "    </tr>\n",
       "    <tr>\n",
       "      <th>245085</th>\n",
       "      <td>0.999987</td>\n",
       "      <td>0.999981</td>\n",
       "      <td>0.998877</td>\n",
       "      <td>0.008269</td>\n",
       "      <td>0.024415</td>\n",
       "      <td>0.999755</td>\n",
       "      <td>floor</td>\n",
       "    </tr>\n",
       "  </tbody>\n",
       "</table>\n",
       "</div>"
      ],
      "text/plain": [
       "               X         Y         Z       N_X       N_Y       N_Z  label\n",
       "319852  0.999997  0.999954  0.996805  0.120311  0.209703  0.978191  floor\n",
       "245085  0.999987  0.999981  0.998877  0.008269  0.024415  0.999755  floor"
      ]
     },
     "execution_count": 8,
     "metadata": {},
     "output_type": "execute_result"
    }
   ],
   "source": [
    "#floor_data - west2\n",
    "\n",
    "df_west_2_floor =  pd.read_csv('/Users/qwert/Documents/TASKAR/data/sampled_normal_data/west_2/Sampled_Normals/west2_floor_normals_sampled.csv')\n",
    "df_west_2_floor.rename(columns = {'//X':'X', 'Nz':'N_Z','Nx':'N_X', 'Ny':'N_Y'}, inplace = True)\n",
    "df_west_2_floor_smp = df_west_2_floor[['X','Y','Z','N_X','N_Y','N_Z']].dropna(subset=['Y']).sample(n = 2000)\n",
    "\n",
    "for col in df_west_2_floor_smp.columns:\n",
    "    df_west_2_floor_smp[col] = absolute_maximum_scale(df_west_2_floor_smp[col])\n",
    "\n",
    "df_west_2_floor_smp['label'] = 'floor'\n",
    "print(df_west_2_floor_smp.shape)\n",
    "\n",
    "df_west_2_floor_smp.head(2)"
   ]
  },
  {
   "cell_type": "code",
   "execution_count": 9,
   "id": "8fe45f6d",
   "metadata": {},
   "outputs": [
    {
     "name": "stdout",
     "output_type": "stream",
     "text": [
      "(2000, 7)\n"
     ]
    },
    {
     "data": {
      "text/html": [
       "<div>\n",
       "<style scoped>\n",
       "    .dataframe tbody tr th:only-of-type {\n",
       "        vertical-align: middle;\n",
       "    }\n",
       "\n",
       "    .dataframe tbody tr th {\n",
       "        vertical-align: top;\n",
       "    }\n",
       "\n",
       "    .dataframe thead th {\n",
       "        text-align: right;\n",
       "    }\n",
       "</style>\n",
       "<table border=\"1\" class=\"dataframe\">\n",
       "  <thead>\n",
       "    <tr style=\"text-align: right;\">\n",
       "      <th></th>\n",
       "      <th>X</th>\n",
       "      <th>Y</th>\n",
       "      <th>Z</th>\n",
       "      <th>N_X</th>\n",
       "      <th>N_Y</th>\n",
       "      <th>N_Z</th>\n",
       "      <th>label</th>\n",
       "    </tr>\n",
       "  </thead>\n",
       "  <tbody>\n",
       "    <tr>\n",
       "      <th>71925</th>\n",
       "      <td>0.999978</td>\n",
       "      <td>0.999929</td>\n",
       "      <td>0.978928</td>\n",
       "      <td>-0.295781</td>\n",
       "      <td>-0.949423</td>\n",
       "      <td>-0.112483</td>\n",
       "      <td>stairs</td>\n",
       "    </tr>\n",
       "    <tr>\n",
       "      <th>359925</th>\n",
       "      <td>0.999978</td>\n",
       "      <td>0.999929</td>\n",
       "      <td>0.969436</td>\n",
       "      <td>0.604981</td>\n",
       "      <td>-0.763159</td>\n",
       "      <td>0.232392</td>\n",
       "      <td>stairs</td>\n",
       "    </tr>\n",
       "  </tbody>\n",
       "</table>\n",
       "</div>"
      ],
      "text/plain": [
       "               X         Y         Z       N_X       N_Y       N_Z   label\n",
       "71925   0.999978  0.999929  0.978928 -0.295781 -0.949423 -0.112483  stairs\n",
       "359925  0.999978  0.999929  0.969436  0.604981 -0.763159  0.232392  stairs"
      ]
     },
     "execution_count": 9,
     "metadata": {},
     "output_type": "execute_result"
    }
   ],
   "source": [
    "#Stairs_data - west2\n",
    "\n",
    "df_west_2_stairs=  pd.read_csv('/Users/qwert/Documents/TASKAR/data/sampled_normal_data/west_2/Sampled_Normals/west2_stairs_normals_sampled.csv')\n",
    "df_west_2_stairs.rename(columns = {'//X':'X', 'Nz':'N_Z','Nx':'N_X', 'Ny':'N_Y'}, inplace = True)\n",
    "df_west_2_stairs_smp = df_west_2_stairs[['X','Y','Z','N_X','N_Y','N_Z']].dropna(subset=['Y']).sample(n = 2000)\n",
    "\n",
    "for col in df_west_2_stairs_smp.columns:\n",
    "    df_west_2_stairs_smp[col] = absolute_maximum_scale(df_west_2_stairs_smp[col])\n",
    "\n",
    "df_west_2_stairs_smp['label'] = 'stairs'\n",
    "print(df_west_2_stairs_smp.shape)\n",
    "\n",
    "df_west_2_stairs_smp.head(2)"
   ]
  },
  {
   "cell_type": "code",
   "execution_count": 10,
   "id": "2b9c91f5",
   "metadata": {},
   "outputs": [
    {
     "name": "stdout",
     "output_type": "stream",
     "text": [
      "(2000, 7)\n"
     ]
    },
    {
     "data": {
      "text/html": [
       "<div>\n",
       "<style scoped>\n",
       "    .dataframe tbody tr th:only-of-type {\n",
       "        vertical-align: middle;\n",
       "    }\n",
       "\n",
       "    .dataframe tbody tr th {\n",
       "        vertical-align: top;\n",
       "    }\n",
       "\n",
       "    .dataframe thead th {\n",
       "        text-align: right;\n",
       "    }\n",
       "</style>\n",
       "<table border=\"1\" class=\"dataframe\">\n",
       "  <thead>\n",
       "    <tr style=\"text-align: right;\">\n",
       "      <th></th>\n",
       "      <th>X</th>\n",
       "      <th>Y</th>\n",
       "      <th>Z</th>\n",
       "      <th>N_X</th>\n",
       "      <th>N_Y</th>\n",
       "      <th>N_Z</th>\n",
       "      <th>label</th>\n",
       "    </tr>\n",
       "  </thead>\n",
       "  <tbody>\n",
       "    <tr>\n",
       "      <th>37697</th>\n",
       "      <td>0.999988</td>\n",
       "      <td>0.999975</td>\n",
       "      <td>0.983391</td>\n",
       "      <td>-0.618931</td>\n",
       "      <td>0.793426</td>\n",
       "      <td>0.067722</td>\n",
       "      <td>wall</td>\n",
       "    </tr>\n",
       "    <tr>\n",
       "      <th>68137</th>\n",
       "      <td>0.999984</td>\n",
       "      <td>0.999968</td>\n",
       "      <td>0.987254</td>\n",
       "      <td>-0.516318</td>\n",
       "      <td>0.862665</td>\n",
       "      <td>-0.054584</td>\n",
       "      <td>wall</td>\n",
       "    </tr>\n",
       "  </tbody>\n",
       "</table>\n",
       "</div>"
      ],
      "text/plain": [
       "              X         Y         Z       N_X       N_Y       N_Z label\n",
       "37697  0.999988  0.999975  0.983391 -0.618931  0.793426  0.067722  wall\n",
       "68137  0.999984  0.999968  0.987254 -0.516318  0.862665 -0.054584  wall"
      ]
     },
     "execution_count": 10,
     "metadata": {},
     "output_type": "execute_result"
    }
   ],
   "source": [
    "#Wall_data - west2\n",
    "\n",
    "df_west_2_wall=  pd.read_csv('/Users/qwert/Documents/TASKAR/data/sampled_normal_data/west_2/Sampled_Normals/west2_wall_normals_sampled.csv')\n",
    "df_west_2_wall.rename(columns = {'//X':'X', 'Nz':'N_Z','Nx':'N_X', 'Ny':'N_Y'}, inplace = True)\n",
    "df_west_2_wall_smp = df_west_2_wall[['X','Y','Z','N_X','N_Y','N_Z']].dropna(subset=['Y']).sample(n = 2000)\n",
    "\n",
    "for col in df_west_2_wall_smp.columns:\n",
    "    df_west_2_wall_smp[col] = absolute_maximum_scale(df_west_2_wall_smp[col])\n",
    "\n",
    "df_west_2_wall_smp['label'] = 'wall'\n",
    "print(df_west_2_wall_smp.shape)\n",
    "\n",
    "\n",
    "df_west_2_wall_smp.head(2)"
   ]
  },
  {
   "cell_type": "code",
   "execution_count": 11,
   "id": "a5e07ea9",
   "metadata": {},
   "outputs": [
    {
     "name": "stdout",
     "output_type": "stream",
     "text": [
      "(8000, 7)\n"
     ]
    },
    {
     "data": {
      "text/html": [
       "<div>\n",
       "<style scoped>\n",
       "    .dataframe tbody tr th:only-of-type {\n",
       "        vertical-align: middle;\n",
       "    }\n",
       "\n",
       "    .dataframe tbody tr th {\n",
       "        vertical-align: top;\n",
       "    }\n",
       "\n",
       "    .dataframe thead th {\n",
       "        text-align: right;\n",
       "    }\n",
       "</style>\n",
       "<table border=\"1\" class=\"dataframe\">\n",
       "  <thead>\n",
       "    <tr style=\"text-align: right;\">\n",
       "      <th></th>\n",
       "      <th>X</th>\n",
       "      <th>Y</th>\n",
       "      <th>Z</th>\n",
       "      <th>N_X</th>\n",
       "      <th>N_Y</th>\n",
       "      <th>N_Z</th>\n",
       "      <th>label</th>\n",
       "    </tr>\n",
       "  </thead>\n",
       "  <tbody>\n",
       "    <tr>\n",
       "      <th>18399</th>\n",
       "      <td>0.999980</td>\n",
       "      <td>0.999956</td>\n",
       "      <td>0.999661</td>\n",
       "      <td>0.107104</td>\n",
       "      <td>-0.030122</td>\n",
       "      <td>0.994325</td>\n",
       "      <td>ceiling</td>\n",
       "    </tr>\n",
       "    <tr>\n",
       "      <th>547755</th>\n",
       "      <td>0.999979</td>\n",
       "      <td>0.999940</td>\n",
       "      <td>0.999648</td>\n",
       "      <td>-0.058918</td>\n",
       "      <td>0.131620</td>\n",
       "      <td>0.989970</td>\n",
       "      <td>ceiling</td>\n",
       "    </tr>\n",
       "    <tr>\n",
       "      <th>270014</th>\n",
       "      <td>0.999987</td>\n",
       "      <td>0.999958</td>\n",
       "      <td>0.999599</td>\n",
       "      <td>-0.072672</td>\n",
       "      <td>-0.105019</td>\n",
       "      <td>0.992219</td>\n",
       "      <td>ceiling</td>\n",
       "    </tr>\n",
       "  </tbody>\n",
       "</table>\n",
       "</div>"
      ],
      "text/plain": [
       "               X         Y         Z       N_X       N_Y       N_Z    label\n",
       "18399   0.999980  0.999956  0.999661  0.107104 -0.030122  0.994325  ceiling\n",
       "547755  0.999979  0.999940  0.999648 -0.058918  0.131620  0.989970  ceiling\n",
       "270014  0.999987  0.999958  0.999599 -0.072672 -0.105019  0.992219  ceiling"
      ]
     },
     "execution_count": 11,
     "metadata": {},
     "output_type": "execute_result"
    }
   ],
   "source": [
    "# WEST 2 FULL DATASET\n",
    "\n",
    "final_df_west_2 = pd.concat([df_west_2_ceiling_smp, df_west_2_floor_smp, df_west_2_stairs_smp, df_west_2_wall_smp], axis=0)\n",
    "print(final_df_west_2.shape)\n",
    "final_df_west_2.head(3)\n",
    "\n",
    "\n"
   ]
  },
  {
   "cell_type": "markdown",
   "id": "128454e0",
   "metadata": {},
   "source": [
    "### West-3\n"
   ]
  },
  {
   "cell_type": "code",
   "execution_count": 12,
   "id": "59142082",
   "metadata": {},
   "outputs": [
    {
     "name": "stdout",
     "output_type": "stream",
     "text": [
      "(2000, 7)\n"
     ]
    },
    {
     "data": {
      "text/html": [
       "<div>\n",
       "<style scoped>\n",
       "    .dataframe tbody tr th:only-of-type {\n",
       "        vertical-align: middle;\n",
       "    }\n",
       "\n",
       "    .dataframe tbody tr th {\n",
       "        vertical-align: top;\n",
       "    }\n",
       "\n",
       "    .dataframe thead th {\n",
       "        text-align: right;\n",
       "    }\n",
       "</style>\n",
       "<table border=\"1\" class=\"dataframe\">\n",
       "  <thead>\n",
       "    <tr style=\"text-align: right;\">\n",
       "      <th></th>\n",
       "      <th>X</th>\n",
       "      <th>Y</th>\n",
       "      <th>Z</th>\n",
       "      <th>N_X</th>\n",
       "      <th>N_Y</th>\n",
       "      <th>N_Z</th>\n",
       "      <th>label</th>\n",
       "    </tr>\n",
       "  </thead>\n",
       "  <tbody>\n",
       "    <tr>\n",
       "      <th>8641</th>\n",
       "      <td>0.999905</td>\n",
       "      <td>0.999800</td>\n",
       "      <td>0.987700</td>\n",
       "      <td>0.142183</td>\n",
       "      <td>-0.054481</td>\n",
       "      <td>0.988349</td>\n",
       "      <td>ceiling</td>\n",
       "    </tr>\n",
       "    <tr>\n",
       "      <th>174138</th>\n",
       "      <td>0.999942</td>\n",
       "      <td>0.999935</td>\n",
       "      <td>0.964769</td>\n",
       "      <td>-0.008955</td>\n",
       "      <td>0.008980</td>\n",
       "      <td>0.999921</td>\n",
       "      <td>ceiling</td>\n",
       "    </tr>\n",
       "  </tbody>\n",
       "</table>\n",
       "</div>"
      ],
      "text/plain": [
       "               X         Y         Z       N_X       N_Y       N_Z    label\n",
       "8641    0.999905  0.999800  0.987700  0.142183 -0.054481  0.988349  ceiling\n",
       "174138  0.999942  0.999935  0.964769 -0.008955  0.008980  0.999921  ceiling"
      ]
     },
     "execution_count": 12,
     "metadata": {},
     "output_type": "execute_result"
    }
   ],
   "source": [
    "#ceiling_data -west3\n",
    "\n",
    "df_west_3_ceiling =  pd.read_csv('/Users/qwert/Documents/TASKAR/data/sampled_normal_data/west_3/Sampled_Normals/west3_ceiling_normals_sampled.csv')\n",
    "df_west_3_ceiling.rename(columns = {'//X':'X', 'Nz':'N_Z','Nx':'N_X', 'Ny':'N_Y'}, inplace = True)\n",
    "df_west_3_ceiling_smp = df_west_3_ceiling[['X','Y','Z','N_X','N_Y','N_Z']].dropna(subset=['Y']).sample(n = 2000)\n",
    "\n",
    "for col in df_west_3_ceiling_smp.columns:\n",
    "    df_west_3_ceiling_smp[col] = absolute_maximum_scale(df_west_3_ceiling_smp[col])\n",
    "\n",
    "df_west_3_ceiling_smp['label'] = 'ceiling'\n",
    "print(df_west_3_ceiling_smp.shape)\n",
    "\n",
    "\n",
    "df_west_3_ceiling_smp.head(2)"
   ]
  },
  {
   "cell_type": "code",
   "execution_count": 13,
   "id": "8eae0bed",
   "metadata": {},
   "outputs": [
    {
     "name": "stdout",
     "output_type": "stream",
     "text": [
      "(2000, 7)\n"
     ]
    },
    {
     "data": {
      "text/html": [
       "<div>\n",
       "<style scoped>\n",
       "    .dataframe tbody tr th:only-of-type {\n",
       "        vertical-align: middle;\n",
       "    }\n",
       "\n",
       "    .dataframe tbody tr th {\n",
       "        vertical-align: top;\n",
       "    }\n",
       "\n",
       "    .dataframe thead th {\n",
       "        text-align: right;\n",
       "    }\n",
       "</style>\n",
       "<table border=\"1\" class=\"dataframe\">\n",
       "  <thead>\n",
       "    <tr style=\"text-align: right;\">\n",
       "      <th></th>\n",
       "      <th>X</th>\n",
       "      <th>Y</th>\n",
       "      <th>Z</th>\n",
       "      <th>N_X</th>\n",
       "      <th>N_Y</th>\n",
       "      <th>N_Z</th>\n",
       "      <th>label</th>\n",
       "    </tr>\n",
       "  </thead>\n",
       "  <tbody>\n",
       "    <tr>\n",
       "      <th>26656</th>\n",
       "      <td>0.999957</td>\n",
       "      <td>0.999909</td>\n",
       "      <td>0.930428</td>\n",
       "      <td>0.000981</td>\n",
       "      <td>0.000978</td>\n",
       "      <td>1.000000</td>\n",
       "      <td>floor</td>\n",
       "    </tr>\n",
       "    <tr>\n",
       "      <th>187061</th>\n",
       "      <td>0.999956</td>\n",
       "      <td>0.999890</td>\n",
       "      <td>0.930428</td>\n",
       "      <td>0.073798</td>\n",
       "      <td>0.056013</td>\n",
       "      <td>0.995719</td>\n",
       "      <td>floor</td>\n",
       "    </tr>\n",
       "  </tbody>\n",
       "</table>\n",
       "</div>"
      ],
      "text/plain": [
       "               X         Y         Z       N_X       N_Y       N_Z  label\n",
       "26656   0.999957  0.999909  0.930428  0.000981  0.000978  1.000000  floor\n",
       "187061  0.999956  0.999890  0.930428  0.073798  0.056013  0.995719  floor"
      ]
     },
     "execution_count": 13,
     "metadata": {},
     "output_type": "execute_result"
    }
   ],
   "source": [
    "#floor_data - west3\n",
    "\n",
    "df_west_3_floor =  pd.read_csv('/Users/qwert/Documents/TASKAR/data/sampled_normal_data/west_3/Sampled_Normals/west3_floor_normals_sampled.csv')\n",
    "df_west_3_floor.rename(columns = {'//X':'X', 'Nz':'N_Z','Nx':'N_X', 'Ny':'N_Y'}, inplace = True)\n",
    "df_west_3_floor_smp = df_west_3_floor[['X','Y','Z','N_X','N_Y','N_Z']].dropna(subset=['Y']).sample(n = 2000)\n",
    "\n",
    "for col in df_west_3_floor_smp.columns:\n",
    "    df_west_3_floor_smp[col] = absolute_maximum_scale(df_west_3_floor_smp[col])\n",
    "\n",
    "df_west_3_floor_smp['label'] = 'floor'\n",
    "print(df_west_3_floor_smp.shape)\n",
    "\n",
    "df_west_3_floor_smp.head(2)"
   ]
  },
  {
   "cell_type": "code",
   "execution_count": 14,
   "id": "1e830df4",
   "metadata": {},
   "outputs": [
    {
     "name": "stdout",
     "output_type": "stream",
     "text": [
      "(2000, 7)\n"
     ]
    },
    {
     "data": {
      "text/html": [
       "<div>\n",
       "<style scoped>\n",
       "    .dataframe tbody tr th:only-of-type {\n",
       "        vertical-align: middle;\n",
       "    }\n",
       "\n",
       "    .dataframe tbody tr th {\n",
       "        vertical-align: top;\n",
       "    }\n",
       "\n",
       "    .dataframe thead th {\n",
       "        text-align: right;\n",
       "    }\n",
       "</style>\n",
       "<table border=\"1\" class=\"dataframe\">\n",
       "  <thead>\n",
       "    <tr style=\"text-align: right;\">\n",
       "      <th></th>\n",
       "      <th>X</th>\n",
       "      <th>Y</th>\n",
       "      <th>Z</th>\n",
       "      <th>N_X</th>\n",
       "      <th>N_Y</th>\n",
       "      <th>N_Z</th>\n",
       "      <th>label</th>\n",
       "    </tr>\n",
       "  </thead>\n",
       "  <tbody>\n",
       "    <tr>\n",
       "      <th>610706</th>\n",
       "      <td>0.999993</td>\n",
       "      <td>0.999984</td>\n",
       "      <td>0.921443</td>\n",
       "      <td>-0.786047</td>\n",
       "      <td>0.606549</td>\n",
       "      <td>0.129021</td>\n",
       "      <td>wall</td>\n",
       "    </tr>\n",
       "    <tr>\n",
       "      <th>124811</th>\n",
       "      <td>0.999931</td>\n",
       "      <td>0.999865</td>\n",
       "      <td>0.851303</td>\n",
       "      <td>0.837874</td>\n",
       "      <td>0.547878</td>\n",
       "      <td>0.023343</td>\n",
       "      <td>wall</td>\n",
       "    </tr>\n",
       "  </tbody>\n",
       "</table>\n",
       "</div>"
      ],
      "text/plain": [
       "               X         Y         Z       N_X       N_Y       N_Z label\n",
       "610706  0.999993  0.999984  0.921443 -0.786047  0.606549  0.129021  wall\n",
       "124811  0.999931  0.999865  0.851303  0.837874  0.547878  0.023343  wall"
      ]
     },
     "execution_count": 14,
     "metadata": {},
     "output_type": "execute_result"
    }
   ],
   "source": [
    "#Wall_data - west3\n",
    "\n",
    "df_west_3_wall=  pd.read_csv('/Users/qwert/Documents/TASKAR/data/sampled_normal_data/west_3/Sampled_Normals/west3_wall_normals_sampled.csv')\n",
    "df_west_3_wall.rename(columns = {'//X':'X', 'Nz':'N_Z','Nx':'N_X', 'Ny':'N_Y'}, inplace = True)\n",
    "df_west_3_wall_smp = df_west_3_wall[['X','Y','Z','N_X','N_Y','N_Z']].dropna(subset=['Y']).sample(n = 2000)\n",
    "\n",
    "for col in df_west_3_wall_smp.columns:\n",
    "    df_west_3_wall_smp[col] = absolute_maximum_scale(df_west_3_wall_smp[col])\n",
    "\n",
    "df_west_3_wall_smp['label'] = 'wall'\n",
    "print(df_west_3_wall_smp.shape)\n",
    "\n",
    "\n",
    "df_west_3_wall_smp.head(2)"
   ]
  },
  {
   "cell_type": "code",
   "execution_count": 15,
   "id": "21b61bfc",
   "metadata": {},
   "outputs": [
    {
     "name": "stdout",
     "output_type": "stream",
     "text": [
      "(6000, 7)\n"
     ]
    },
    {
     "data": {
      "text/html": [
       "<div>\n",
       "<style scoped>\n",
       "    .dataframe tbody tr th:only-of-type {\n",
       "        vertical-align: middle;\n",
       "    }\n",
       "\n",
       "    .dataframe tbody tr th {\n",
       "        vertical-align: top;\n",
       "    }\n",
       "\n",
       "    .dataframe thead th {\n",
       "        text-align: right;\n",
       "    }\n",
       "</style>\n",
       "<table border=\"1\" class=\"dataframe\">\n",
       "  <thead>\n",
       "    <tr style=\"text-align: right;\">\n",
       "      <th></th>\n",
       "      <th>X</th>\n",
       "      <th>Y</th>\n",
       "      <th>Z</th>\n",
       "      <th>N_X</th>\n",
       "      <th>N_Y</th>\n",
       "      <th>N_Z</th>\n",
       "      <th>label</th>\n",
       "    </tr>\n",
       "  </thead>\n",
       "  <tbody>\n",
       "    <tr>\n",
       "      <th>8641</th>\n",
       "      <td>0.999905</td>\n",
       "      <td>0.999800</td>\n",
       "      <td>0.987700</td>\n",
       "      <td>0.142183</td>\n",
       "      <td>-0.054481</td>\n",
       "      <td>0.988349</td>\n",
       "      <td>ceiling</td>\n",
       "    </tr>\n",
       "    <tr>\n",
       "      <th>174138</th>\n",
       "      <td>0.999942</td>\n",
       "      <td>0.999935</td>\n",
       "      <td>0.964769</td>\n",
       "      <td>-0.008955</td>\n",
       "      <td>0.008980</td>\n",
       "      <td>0.999921</td>\n",
       "      <td>ceiling</td>\n",
       "    </tr>\n",
       "    <tr>\n",
       "      <th>207059</th>\n",
       "      <td>0.999911</td>\n",
       "      <td>0.999797</td>\n",
       "      <td>0.987612</td>\n",
       "      <td>-0.015650</td>\n",
       "      <td>0.053358</td>\n",
       "      <td>0.998462</td>\n",
       "      <td>ceiling</td>\n",
       "    </tr>\n",
       "  </tbody>\n",
       "</table>\n",
       "</div>"
      ],
      "text/plain": [
       "               X         Y         Z       N_X       N_Y       N_Z    label\n",
       "8641    0.999905  0.999800  0.987700  0.142183 -0.054481  0.988349  ceiling\n",
       "174138  0.999942  0.999935  0.964769 -0.008955  0.008980  0.999921  ceiling\n",
       "207059  0.999911  0.999797  0.987612 -0.015650  0.053358  0.998462  ceiling"
      ]
     },
     "execution_count": 15,
     "metadata": {},
     "output_type": "execute_result"
    }
   ],
   "source": [
    "# WEST 3 FULL DATASET\n",
    "\n",
    "final_df_west_3 = pd.concat([df_west_3_ceiling_smp, df_west_3_floor_smp, df_west_3_wall_smp], axis=0)\n",
    "print(final_df_west_3.shape)\n",
    "final_df_west_3.head(3)"
   ]
  },
  {
   "cell_type": "markdown",
   "id": "a47f419d",
   "metadata": {},
   "source": [
    "### WEST -5"
   ]
  },
  {
   "cell_type": "code",
   "execution_count": 16,
   "id": "0bcb3d51",
   "metadata": {},
   "outputs": [
    {
     "data": {
      "text/html": [
       "<div>\n",
       "<style scoped>\n",
       "    .dataframe tbody tr th:only-of-type {\n",
       "        vertical-align: middle;\n",
       "    }\n",
       "\n",
       "    .dataframe tbody tr th {\n",
       "        vertical-align: top;\n",
       "    }\n",
       "\n",
       "    .dataframe thead th {\n",
       "        text-align: right;\n",
       "    }\n",
       "</style>\n",
       "<table border=\"1\" class=\"dataframe\">\n",
       "  <thead>\n",
       "    <tr style=\"text-align: right;\">\n",
       "      <th></th>\n",
       "      <th>X</th>\n",
       "      <th>Y</th>\n",
       "      <th>Z</th>\n",
       "      <th>N_X</th>\n",
       "      <th>N_Y</th>\n",
       "      <th>N_Z</th>\n",
       "      <th>label</th>\n",
       "    </tr>\n",
       "  </thead>\n",
       "  <tbody>\n",
       "    <tr>\n",
       "      <th>561981</th>\n",
       "      <td>0.999889</td>\n",
       "      <td>0.999796</td>\n",
       "      <td>0.988404</td>\n",
       "      <td>-0.604695</td>\n",
       "      <td>-0.046852</td>\n",
       "      <td>0.795895</td>\n",
       "      <td>ceiling</td>\n",
       "    </tr>\n",
       "    <tr>\n",
       "      <th>33117</th>\n",
       "      <td>0.999933</td>\n",
       "      <td>0.999893</td>\n",
       "      <td>0.984802</td>\n",
       "      <td>-0.031638</td>\n",
       "      <td>0.011255</td>\n",
       "      <td>0.999439</td>\n",
       "      <td>ceiling</td>\n",
       "    </tr>\n",
       "  </tbody>\n",
       "</table>\n",
       "</div>"
      ],
      "text/plain": [
       "               X         Y         Z       N_X       N_Y       N_Z    label\n",
       "561981  0.999889  0.999796  0.988404 -0.604695 -0.046852  0.795895  ceiling\n",
       "33117   0.999933  0.999893  0.984802 -0.031638  0.011255  0.999439  ceiling"
      ]
     },
     "execution_count": 16,
     "metadata": {},
     "output_type": "execute_result"
    }
   ],
   "source": [
    "#ceiling_data -west5\n",
    "\n",
    "df_west_5_ceiling =  pd.read_csv('/Users/qwert/Documents/TASKAR/data/sampled_normal_data/west_5/Sampled_Normals/west_5_ceiling_normals_sampled.csv')\n",
    "df_west_5_ceiling.rename(columns = {'//X':'X', 'Nz':'N_Z','Nx':'N_X', 'Ny':'N_Y'}, inplace = True)\n",
    "df_west_5_ceiling_smp = df_west_3_ceiling[['X','Y','Z','N_X','N_Y','N_Z']].dropna(subset=['Y']).sample(n = 2000)\n",
    "\n",
    "for col in df_west_5_ceiling_smp.columns:\n",
    "    df_west_5_ceiling_smp[col] = absolute_maximum_scale(df_west_5_ceiling_smp[col])\n",
    "\n",
    "df_west_5_ceiling_smp['label'] = 'ceiling'\n",
    "\n",
    "\n",
    "df_west_5_ceiling_smp.head(2)"
   ]
  },
  {
   "cell_type": "code",
   "execution_count": 17,
   "id": "637e8c97",
   "metadata": {},
   "outputs": [
    {
     "data": {
      "text/html": [
       "<div>\n",
       "<style scoped>\n",
       "    .dataframe tbody tr th:only-of-type {\n",
       "        vertical-align: middle;\n",
       "    }\n",
       "\n",
       "    .dataframe tbody tr th {\n",
       "        vertical-align: top;\n",
       "    }\n",
       "\n",
       "    .dataframe thead th {\n",
       "        text-align: right;\n",
       "    }\n",
       "</style>\n",
       "<table border=\"1\" class=\"dataframe\">\n",
       "  <thead>\n",
       "    <tr style=\"text-align: right;\">\n",
       "      <th></th>\n",
       "      <th>X</th>\n",
       "      <th>Y</th>\n",
       "      <th>Z</th>\n",
       "      <th>N_X</th>\n",
       "      <th>N_Y</th>\n",
       "      <th>N_Z</th>\n",
       "      <th>label</th>\n",
       "    </tr>\n",
       "  </thead>\n",
       "  <tbody>\n",
       "    <tr>\n",
       "      <th>744089</th>\n",
       "      <td>0.999963</td>\n",
       "      <td>0.999903</td>\n",
       "      <td>0.969874</td>\n",
       "      <td>-0.010575</td>\n",
       "      <td>0.165656</td>\n",
       "      <td>0.987622</td>\n",
       "      <td>floor</td>\n",
       "    </tr>\n",
       "    <tr>\n",
       "      <th>965921</th>\n",
       "      <td>0.999958</td>\n",
       "      <td>0.999897</td>\n",
       "      <td>0.969936</td>\n",
       "      <td>-0.029402</td>\n",
       "      <td>-0.043074</td>\n",
       "      <td>0.998775</td>\n",
       "      <td>floor</td>\n",
       "    </tr>\n",
       "  </tbody>\n",
       "</table>\n",
       "</div>"
      ],
      "text/plain": [
       "               X         Y         Z       N_X       N_Y       N_Z  label\n",
       "744089  0.999963  0.999903  0.969874 -0.010575  0.165656  0.987622  floor\n",
       "965921  0.999958  0.999897  0.969936 -0.029402 -0.043074  0.998775  floor"
      ]
     },
     "execution_count": 17,
     "metadata": {},
     "output_type": "execute_result"
    }
   ],
   "source": [
    "#floor_data - west5\n",
    "\n",
    "df_west_5_floor =  pd.read_csv('/Users/qwert/Documents/TASKAR/data/sampled_normal_data/west_5/Sampled_Normals/west_5_floor_normals_sampled.csv')\n",
    "df_west_5_floor.rename(columns = {'//X':'X', 'Nz':'N_Z','Nx':'N_X', 'Ny':'N_Y'}, inplace = True)\n",
    "df_west_5_floor_smp = df_west_5_floor[['X','Y','Z','N_X','N_Y','N_Z']].dropna(subset=['Y']).sample(n = 2000)\n",
    "\n",
    "for col in df_west_5_floor_smp.columns:\n",
    "    df_west_5_floor_smp[col] = absolute_maximum_scale(df_west_5_floor_smp[col])\n",
    "\n",
    "df_west_5_floor_smp['label'] = 'floor'\n",
    "\n",
    "\n",
    "df_west_5_floor_smp.head(2)"
   ]
  },
  {
   "cell_type": "code",
   "execution_count": 18,
   "id": "b455f67a",
   "metadata": {},
   "outputs": [
    {
     "data": {
      "text/html": [
       "<div>\n",
       "<style scoped>\n",
       "    .dataframe tbody tr th:only-of-type {\n",
       "        vertical-align: middle;\n",
       "    }\n",
       "\n",
       "    .dataframe tbody tr th {\n",
       "        vertical-align: top;\n",
       "    }\n",
       "\n",
       "    .dataframe thead th {\n",
       "        text-align: right;\n",
       "    }\n",
       "</style>\n",
       "<table border=\"1\" class=\"dataframe\">\n",
       "  <thead>\n",
       "    <tr style=\"text-align: right;\">\n",
       "      <th></th>\n",
       "      <th>X</th>\n",
       "      <th>Y</th>\n",
       "      <th>Z</th>\n",
       "      <th>N_X</th>\n",
       "      <th>N_Y</th>\n",
       "      <th>N_Z</th>\n",
       "      <th>label</th>\n",
       "    </tr>\n",
       "  </thead>\n",
       "  <tbody>\n",
       "    <tr>\n",
       "      <th>50153</th>\n",
       "      <td>0.999984</td>\n",
       "      <td>0.999952</td>\n",
       "      <td>0.941447</td>\n",
       "      <td>0.885404</td>\n",
       "      <td>0.464670</td>\n",
       "      <td>0.011983</td>\n",
       "      <td>NaN</td>\n",
       "    </tr>\n",
       "    <tr>\n",
       "      <th>416848</th>\n",
       "      <td>0.999989</td>\n",
       "      <td>0.999952</td>\n",
       "      <td>0.848416</td>\n",
       "      <td>0.436821</td>\n",
       "      <td>-0.899024</td>\n",
       "      <td>0.030724</td>\n",
       "      <td>stairs</td>\n",
       "    </tr>\n",
       "  </tbody>\n",
       "</table>\n",
       "</div>"
      ],
      "text/plain": [
       "               X         Y         Z       N_X       N_Y       N_Z   label\n",
       "50153   0.999984  0.999952  0.941447  0.885404  0.464670  0.011983     NaN\n",
       "416848  0.999989  0.999952  0.848416  0.436821 -0.899024  0.030724  stairs"
      ]
     },
     "execution_count": 18,
     "metadata": {},
     "output_type": "execute_result"
    }
   ],
   "source": [
    "#Stairs_data - west5\n",
    "\n",
    "df_west_5_stairs_1=  pd.read_csv('/Users/qwert/Documents/TASKAR/data/sampled_normal_data/west_5/Sampled_Normals/west_5_stairs1_normals_sampled.csv')\n",
    "df_west_5_stairs_1.rename(columns = {'//X':'X', 'Nz':'N_Z','Nx':'N_X', 'Ny':'N_Y'}, inplace = True)\n",
    "df_west_5_stairs_smp_1 = df_west_5_stairs_1[['X','Y','Z','N_X','N_Y','N_Z']].dropna(subset=['Y'])\n",
    "\n",
    "for col in df_west_5_stairs_smp_1.columns:\n",
    "    df_west_5_stairs_smp_1[col] = absolute_maximum_scale(df_west_5_stairs_smp_1[col])\n",
    "\n",
    "df_west_5_stairs_smp_1['label'] = 'stairs'\n",
    "\n",
    "\n",
    "df_west_5_stairs_2=  pd.read_csv('/Users/qwert/Documents/TASKAR/data/sampled_normal_data/west_5/Sampled_Normals/west_5_stairs2_normals_sampled.csv')\n",
    "df_west_5_stairs_2.rename(columns = {'//X':'X', 'Nz':'N_Z','Nx':'N_X', 'Ny':'N_Y'}, inplace = True)\n",
    "df_west_5_stairs_smp_2 = df_west_5_stairs_2[['X','Y','Z','N_X','N_Y','N_Z']].dropna(subset=['Y'])\n",
    "\n",
    "for col in df_west_5_stairs_smp_2.columns:\n",
    "    df_west_5_stairs_smp_2[col] = absolute_maximum_scale(df_west_5_stairs_smp_2[col])\n",
    "\n",
    "df_west_5_stairs_smp = pd.concat([df_west_5_stairs_smp_1, df_west_5_stairs_smp_2], axis=0).sample(n = 2000)\n",
    "\n",
    "df_west_5_stairs_smp.head(2)"
   ]
  },
  {
   "cell_type": "code",
   "execution_count": 19,
   "id": "28cf3f56",
   "metadata": {},
   "outputs": [
    {
     "data": {
      "text/html": [
       "<div>\n",
       "<style scoped>\n",
       "    .dataframe tbody tr th:only-of-type {\n",
       "        vertical-align: middle;\n",
       "    }\n",
       "\n",
       "    .dataframe tbody tr th {\n",
       "        vertical-align: top;\n",
       "    }\n",
       "\n",
       "    .dataframe thead th {\n",
       "        text-align: right;\n",
       "    }\n",
       "</style>\n",
       "<table border=\"1\" class=\"dataframe\">\n",
       "  <thead>\n",
       "    <tr style=\"text-align: right;\">\n",
       "      <th></th>\n",
       "      <th>X</th>\n",
       "      <th>Y</th>\n",
       "      <th>Z</th>\n",
       "      <th>N_X</th>\n",
       "      <th>N_Y</th>\n",
       "      <th>N_Z</th>\n",
       "      <th>label</th>\n",
       "    </tr>\n",
       "  </thead>\n",
       "  <tbody>\n",
       "    <tr>\n",
       "      <th>974887</th>\n",
       "      <td>0.999974</td>\n",
       "      <td>0.999918</td>\n",
       "      <td>0.640816</td>\n",
       "      <td>-0.521576</td>\n",
       "      <td>0.851975</td>\n",
       "      <td>-0.071954</td>\n",
       "      <td>wall</td>\n",
       "    </tr>\n",
       "    <tr>\n",
       "      <th>185338</th>\n",
       "      <td>0.999922</td>\n",
       "      <td>0.999762</td>\n",
       "      <td>0.736915</td>\n",
       "      <td>-0.830223</td>\n",
       "      <td>-0.560132</td>\n",
       "      <td>0.020614</td>\n",
       "      <td>wall</td>\n",
       "    </tr>\n",
       "  </tbody>\n",
       "</table>\n",
       "</div>"
      ],
      "text/plain": [
       "               X         Y         Z       N_X       N_Y       N_Z label\n",
       "974887  0.999974  0.999918  0.640816 -0.521576  0.851975 -0.071954  wall\n",
       "185338  0.999922  0.999762  0.736915 -0.830223 -0.560132  0.020614  wall"
      ]
     },
     "execution_count": 19,
     "metadata": {},
     "output_type": "execute_result"
    }
   ],
   "source": [
    "#Wall_data - west5\n",
    "\n",
    "df_west_5_wall=  pd.read_csv('/Users/qwert/Documents/TASKAR/data/sampled_normal_data/west_5/Sampled_Normals/west_5_wall_normals_sampled.csv')\n",
    "df_west_5_wall.rename(columns = {'//X':'X', 'Nz':'N_Z','Nx':'N_X', 'Ny':'N_Y'}, inplace = True)\n",
    "df_west_5_wall_smp = df_west_5_wall[['X','Y','Z','N_X','N_Y','N_Z']].dropna(subset=['Y']).sample(n = 2000)\n",
    "\n",
    "for col in df_west_5_wall_smp.columns:\n",
    "    df_west_5_wall_smp[col] = absolute_maximum_scale(df_west_5_wall_smp[col])\n",
    "\n",
    "df_west_5_wall_smp['label'] = 'wall'\n",
    "\n",
    "\n",
    "df_west_5_wall_smp.head(2)\n"
   ]
  },
  {
   "cell_type": "code",
   "execution_count": 20,
   "id": "1a44ab0a",
   "metadata": {},
   "outputs": [
    {
     "data": {
      "text/html": [
       "<div>\n",
       "<style scoped>\n",
       "    .dataframe tbody tr th:only-of-type {\n",
       "        vertical-align: middle;\n",
       "    }\n",
       "\n",
       "    .dataframe tbody tr th {\n",
       "        vertical-align: top;\n",
       "    }\n",
       "\n",
       "    .dataframe thead th {\n",
       "        text-align: right;\n",
       "    }\n",
       "</style>\n",
       "<table border=\"1\" class=\"dataframe\">\n",
       "  <thead>\n",
       "    <tr style=\"text-align: right;\">\n",
       "      <th></th>\n",
       "      <th>X</th>\n",
       "      <th>Y</th>\n",
       "      <th>Z</th>\n",
       "      <th>N_X</th>\n",
       "      <th>N_Y</th>\n",
       "      <th>N_Z</th>\n",
       "      <th>label</th>\n",
       "    </tr>\n",
       "  </thead>\n",
       "  <tbody>\n",
       "    <tr>\n",
       "      <th>561981</th>\n",
       "      <td>0.999889</td>\n",
       "      <td>0.999796</td>\n",
       "      <td>0.988404</td>\n",
       "      <td>-0.604695</td>\n",
       "      <td>-0.046852</td>\n",
       "      <td>0.795895</td>\n",
       "      <td>ceiling</td>\n",
       "    </tr>\n",
       "    <tr>\n",
       "      <th>33117</th>\n",
       "      <td>0.999933</td>\n",
       "      <td>0.999893</td>\n",
       "      <td>0.984802</td>\n",
       "      <td>-0.031638</td>\n",
       "      <td>0.011255</td>\n",
       "      <td>0.999439</td>\n",
       "      <td>ceiling</td>\n",
       "    </tr>\n",
       "    <tr>\n",
       "      <th>128241</th>\n",
       "      <td>0.999916</td>\n",
       "      <td>0.999901</td>\n",
       "      <td>0.971888</td>\n",
       "      <td>-0.386655</td>\n",
       "      <td>0.874882</td>\n",
       "      <td>0.303595</td>\n",
       "      <td>ceiling</td>\n",
       "    </tr>\n",
       "  </tbody>\n",
       "</table>\n",
       "</div>"
      ],
      "text/plain": [
       "               X         Y         Z       N_X       N_Y       N_Z    label\n",
       "561981  0.999889  0.999796  0.988404 -0.604695 -0.046852  0.795895  ceiling\n",
       "33117   0.999933  0.999893  0.984802 -0.031638  0.011255  0.999439  ceiling\n",
       "128241  0.999916  0.999901  0.971888 -0.386655  0.874882  0.303595  ceiling"
      ]
     },
     "execution_count": 20,
     "metadata": {},
     "output_type": "execute_result"
    }
   ],
   "source": [
    "# WEST 5 FULL DATASET\n",
    "\n",
    "final_df_west_5 = pd.concat([df_west_5_ceiling_smp, df_west_5_floor_smp, df_west_5_stairs_smp, df_west_5_wall_smp ], axis=0)\n",
    "final_df_west_5.head(3)"
   ]
  },
  {
   "cell_type": "code",
   "execution_count": 21,
   "id": "20f8f5be",
   "metadata": {},
   "outputs": [
    {
     "data": {
      "text/html": [
       "<div>\n",
       "<style scoped>\n",
       "    .dataframe tbody tr th:only-of-type {\n",
       "        vertical-align: middle;\n",
       "    }\n",
       "\n",
       "    .dataframe tbody tr th {\n",
       "        vertical-align: top;\n",
       "    }\n",
       "\n",
       "    .dataframe thead th {\n",
       "        text-align: right;\n",
       "    }\n",
       "</style>\n",
       "<table border=\"1\" class=\"dataframe\">\n",
       "  <thead>\n",
       "    <tr style=\"text-align: right;\">\n",
       "      <th></th>\n",
       "      <th>X</th>\n",
       "      <th>Y</th>\n",
       "      <th>Z</th>\n",
       "      <th>N_X</th>\n",
       "      <th>N_Y</th>\n",
       "      <th>N_Z</th>\n",
       "      <th>label</th>\n",
       "      <th>cat_label</th>\n",
       "    </tr>\n",
       "  </thead>\n",
       "  <tbody>\n",
       "    <tr>\n",
       "      <th>561981</th>\n",
       "      <td>0.999889</td>\n",
       "      <td>0.999796</td>\n",
       "      <td>0.988404</td>\n",
       "      <td>-0.604695</td>\n",
       "      <td>-0.046852</td>\n",
       "      <td>0.795895</td>\n",
       "      <td>ceiling</td>\n",
       "      <td>0</td>\n",
       "    </tr>\n",
       "    <tr>\n",
       "      <th>33117</th>\n",
       "      <td>0.999933</td>\n",
       "      <td>0.999893</td>\n",
       "      <td>0.984802</td>\n",
       "      <td>-0.031638</td>\n",
       "      <td>0.011255</td>\n",
       "      <td>0.999439</td>\n",
       "      <td>ceiling</td>\n",
       "      <td>0</td>\n",
       "    </tr>\n",
       "    <tr>\n",
       "      <th>128241</th>\n",
       "      <td>0.999916</td>\n",
       "      <td>0.999901</td>\n",
       "      <td>0.971888</td>\n",
       "      <td>-0.386655</td>\n",
       "      <td>0.874882</td>\n",
       "      <td>0.303595</td>\n",
       "      <td>ceiling</td>\n",
       "      <td>0</td>\n",
       "    </tr>\n",
       "  </tbody>\n",
       "</table>\n",
       "</div>"
      ],
      "text/plain": [
       "               X         Y         Z       N_X       N_Y       N_Z    label  \\\n",
       "561981  0.999889  0.999796  0.988404 -0.604695 -0.046852  0.795895  ceiling   \n",
       "33117   0.999933  0.999893  0.984802 -0.031638  0.011255  0.999439  ceiling   \n",
       "128241  0.999916  0.999901  0.971888 -0.386655  0.874882  0.303595  ceiling   \n",
       "\n",
       "        cat_label  \n",
       "561981          0  \n",
       "33117           0  \n",
       "128241          0  "
      ]
     },
     "execution_count": 21,
     "metadata": {},
     "output_type": "execute_result"
    }
   ],
   "source": [
    "final_df_west_5['cat_label'] = final_df_west_5['label'].map({'ceiling':0,'floor':1,'stairs':2,'wall':3})\n",
    "final_df_west_5 = final_df_west_5.dropna(how='any',axis=0) \n",
    "final_df_west_5['cat_label'] = final_df_west_5['cat_label'].astype(int)\n",
    "\n",
    "final_df_west_5.head(3)"
   ]
  },
  {
   "cell_type": "code",
   "execution_count": 22,
   "id": "6850dfdf",
   "metadata": {},
   "outputs": [
    {
     "name": "stdout",
     "output_type": "stream",
     "text": [
      "(18000, 8)\n"
     ]
    },
    {
     "data": {
      "text/html": [
       "<div>\n",
       "<style scoped>\n",
       "    .dataframe tbody tr th:only-of-type {\n",
       "        vertical-align: middle;\n",
       "    }\n",
       "\n",
       "    .dataframe tbody tr th {\n",
       "        vertical-align: top;\n",
       "    }\n",
       "\n",
       "    .dataframe thead th {\n",
       "        text-align: right;\n",
       "    }\n",
       "</style>\n",
       "<table border=\"1\" class=\"dataframe\">\n",
       "  <thead>\n",
       "    <tr style=\"text-align: right;\">\n",
       "      <th></th>\n",
       "      <th>X</th>\n",
       "      <th>Y</th>\n",
       "      <th>Z</th>\n",
       "      <th>N_X</th>\n",
       "      <th>N_Y</th>\n",
       "      <th>N_Z</th>\n",
       "      <th>label</th>\n",
       "      <th>cat_label</th>\n",
       "    </tr>\n",
       "  </thead>\n",
       "  <tbody>\n",
       "    <tr>\n",
       "      <th>2381</th>\n",
       "      <td>0.999987</td>\n",
       "      <td>0.999960</td>\n",
       "      <td>0.999607</td>\n",
       "      <td>0.031471</td>\n",
       "      <td>-0.034334</td>\n",
       "      <td>-1.000000</td>\n",
       "      <td>ceiling</td>\n",
       "      <td>0</td>\n",
       "    </tr>\n",
       "    <tr>\n",
       "      <th>4939</th>\n",
       "      <td>0.999985</td>\n",
       "      <td>0.999981</td>\n",
       "      <td>0.999627</td>\n",
       "      <td>-0.003393</td>\n",
       "      <td>0.026428</td>\n",
       "      <td>-0.999497</td>\n",
       "      <td>ceiling</td>\n",
       "      <td>0</td>\n",
       "    </tr>\n",
       "    <tr>\n",
       "      <th>2352</th>\n",
       "      <td>0.999984</td>\n",
       "      <td>0.999968</td>\n",
       "      <td>0.999607</td>\n",
       "      <td>-0.007811</td>\n",
       "      <td>-0.003400</td>\n",
       "      <td>-0.999858</td>\n",
       "      <td>ceiling</td>\n",
       "      <td>0</td>\n",
       "    </tr>\n",
       "    <tr>\n",
       "      <th>1824</th>\n",
       "      <td>0.999985</td>\n",
       "      <td>0.999960</td>\n",
       "      <td>0.999532</td>\n",
       "      <td>0.003347</td>\n",
       "      <td>-0.010201</td>\n",
       "      <td>-0.999957</td>\n",
       "      <td>ceiling</td>\n",
       "      <td>0</td>\n",
       "    </tr>\n",
       "    <tr>\n",
       "      <th>4035</th>\n",
       "      <td>0.999984</td>\n",
       "      <td>0.999942</td>\n",
       "      <td>0.999329</td>\n",
       "      <td>0.001106</td>\n",
       "      <td>0.001123</td>\n",
       "      <td>-0.999832</td>\n",
       "      <td>ceiling</td>\n",
       "      <td>0</td>\n",
       "    </tr>\n",
       "  </tbody>\n",
       "</table>\n",
       "</div>"
      ],
      "text/plain": [
       "             X         Y         Z       N_X       N_Y       N_Z    label  \\\n",
       "2381  0.999987  0.999960  0.999607  0.031471 -0.034334 -1.000000  ceiling   \n",
       "4939  0.999985  0.999981  0.999627 -0.003393  0.026428 -0.999497  ceiling   \n",
       "2352  0.999984  0.999968  0.999607 -0.007811 -0.003400 -0.999858  ceiling   \n",
       "1824  0.999985  0.999960  0.999532  0.003347 -0.010201 -0.999957  ceiling   \n",
       "4035  0.999984  0.999942  0.999329  0.001106  0.001123 -0.999832  ceiling   \n",
       "\n",
       "      cat_label  \n",
       "2381          0  \n",
       "4939          0  \n",
       "2352          0  \n",
       "1824          0  \n",
       "4035          0  "
      ]
     },
     "execution_count": 22,
     "metadata": {},
     "output_type": "execute_result"
    }
   ],
   "source": [
    "final_df = pd.concat([final_df_west_1, final_df_west_2, final_df_west_3 ], axis=0).dropna(subset=['Y'])\n",
    "final_df['cat_label'] = final_df['label'].map({'ceiling':0,'floor':1,'stairs':2,'wall':3})\n",
    "final_df = final_df.dropna(how='any',axis=0) \n",
    "final_df['cat_label'] = final_df['cat_label'].astype(int)\n",
    "\n",
    "print(final_df.shape)\n",
    "\n",
    "final_df.head(5)"
   ]
  },
  {
   "cell_type": "code",
   "execution_count": 23,
   "id": "6838388c",
   "metadata": {},
   "outputs": [
    {
     "data": {
      "text/plain": [
       "((18000, 6), (18000,))"
      ]
     },
     "execution_count": 23,
     "metadata": {},
     "output_type": "execute_result"
    }
   ],
   "source": [
    "X = np.array(final_df[['X','Y','Z','N_X','N_Y','N_Z']]) # input features\n",
    "y = final_df[['cat_label']].values.ravel()  # output \n",
    "\n",
    "X.shape, y.shape"
   ]
  },
  {
   "cell_type": "code",
   "execution_count": 24,
   "id": "d13285bd",
   "metadata": {},
   "outputs": [
    {
     "data": {
      "text/plain": [
       "False"
      ]
     },
     "execution_count": 24,
     "metadata": {},
     "output_type": "execute_result"
    }
   ],
   "source": [
    "final_df.isnull().values.any()"
   ]
  },
  {
   "cell_type": "code",
   "execution_count": 26,
   "id": "296a6c2c",
   "metadata": {},
   "outputs": [
    {
     "data": {
      "text/plain": [
       "((5400, 6), (5400,))"
      ]
     },
     "execution_count": 26,
     "metadata": {},
     "output_type": "execute_result"
    }
   ],
   "source": [
    "X_test.shape, y_test.shape"
   ]
  },
  {
   "cell_type": "code",
   "execution_count": 27,
   "id": "6aaaaf98",
   "metadata": {},
   "outputs": [],
   "source": [
    "clf_rbf = svm.SVC(kernel='rbf', C=1).fit(X_train, y_train)"
   ]
  },
  {
   "cell_type": "code",
   "execution_count": 28,
   "id": "e8e093d4",
   "metadata": {},
   "outputs": [
    {
     "data": {
      "text/plain": [
       "0.67"
      ]
     },
     "execution_count": 28,
     "metadata": {},
     "output_type": "execute_result"
    }
   ],
   "source": [
    "clf_rbf.score(X_test, y_test)"
   ]
  },
  {
   "cell_type": "code",
   "execution_count": 31,
   "id": "76aa8c40",
   "metadata": {},
   "outputs": [
    {
     "data": {
      "text/plain": [
       "array([0.57      , 0.79833333, 0.55111111, 0.52333333, 0.50805556])"
      ]
     },
     "execution_count": 31,
     "metadata": {},
     "output_type": "execute_result"
    }
   ],
   "source": [
    "from sklearn.model_selection import cross_val_score\n",
    "clf = svm.SVC(kernel='rbf', C=1, random_state=42)\n",
    "scores = cross_val_score(clf, X, y, cv=5)\n",
    "scores"
   ]
  },
  {
   "cell_type": "code",
   "execution_count": 30,
   "id": "013bad5a",
   "metadata": {},
   "outputs": [
    {
     "name": "stdout",
     "output_type": "stream",
     "text": [
      "0.59 accuracy with a standard deviation of 0.11\n"
     ]
    }
   ],
   "source": [
    "print(\"%0.2f accuracy with a standard deviation of %0.2f\" % (scores.mean(), scores.std()))"
   ]
  },
  {
   "cell_type": "markdown",
   "id": "296b9831",
   "metadata": {},
   "source": [
    "#### Original data viz"
   ]
  },
  {
   "cell_type": "code",
   "execution_count": null,
   "id": "6e002cfe",
   "metadata": {},
   "outputs": [],
   "source": [
    "import plotly.express as px\n",
    "\n",
    "fig = px.scatter_3d(final_df, x='N_X', y='N_Y', z='N_Z',\n",
    "              color='label', size_max=0.002, opacity=0.5,symbol='label')\n",
    "\n",
    "# tight layout\n",
    "#\n",
    "# fig.update_layout(margin=dict(l=0, r=0, b=0, t=0))\n",
    "fig.update_layout(title=\"3D-Scatter Plot WITH ALL CLASSES for Classification\")\n",
    "\n",
    "fig.show()"
   ]
  },
  {
   "cell_type": "code",
   "execution_count": null,
   "id": "a528fdc1",
   "metadata": {},
   "outputs": [],
   "source": [
    "import plotly.express as px\n",
    "\n",
    "fig_org = px.scatter_3d(final_df, x='X', y='Y', z='Z',\n",
    "              color='label', size_max=0.002, opacity=0.5,symbol='label')\n",
    "\n",
    "# tight layout\n",
    "#\n",
    "# fig.update_layout(margin=dict(l=0, r=0, b=0, t=0))\n",
    "fig_org.update_layout(title=\"3D-Scatter Plot WITH ALL CLASSES for Classification with ACTUAL values of X, Y, Z\")\n",
    "\n",
    "fig_org.show()"
   ]
  },
  {
   "cell_type": "code",
   "execution_count": null,
   "id": "4aabe65e",
   "metadata": {},
   "outputs": [],
   "source": [
    "#without wall\n",
    "\n",
    "df_wo_wall = final_df[final_df['label'] != 'wall']"
   ]
  },
  {
   "cell_type": "code",
   "execution_count": null,
   "id": "442c40bb",
   "metadata": {},
   "outputs": [],
   "source": [
    "import plotly.express as px\n",
    "\n",
    "fig_wo = px.scatter_3d(df_wo_wall, x='N_X', y='N_Y', z='N_Z',\n",
    "              color='label', size_max=0.002, opacity=0.5,symbol='label')\n",
    "\n",
    "# tight layout\n",
    "#fig_wo.update_layout(margin=dict(l=0, r=0, b=0, t=0))\n",
    "fig_wo.update_layout(title=\"3D-Scatter Plot with all classes except WALL for Classification\")\n",
    "fig_wo.show()"
   ]
  },
  {
   "cell_type": "markdown",
   "id": "4db2cbeb",
   "metadata": {},
   "source": [
    "#### Random Forest"
   ]
  },
  {
   "cell_type": "code",
   "execution_count": null,
   "id": "a320f86f",
   "metadata": {},
   "outputs": [],
   "source": [
    "import pandas as pd\n",
    "import numpy as np\n",
    "\n",
    "# Modelling\n",
    "from sklearn.ensemble import RandomForestClassifier\n",
    "from sklearn.metrics import accuracy_score, confusion_matrix, precision_score, recall_score, ConfusionMatrixDisplay\n",
    "from sklearn.model_selection import RandomizedSearchCV, train_test_split\n",
    "from scipy.stats import randint\n",
    "\n",
    "# Tree Visualisation\n",
    "from sklearn.tree import export_graphviz\n",
    "from IPython.display import Image\n"
   ]
  },
  {
   "cell_type": "code",
   "execution_count": null,
   "id": "be802b61",
   "metadata": {},
   "outputs": [],
   "source": [
    "rf = RandomForestClassifier()\n",
    "rf.fit(X_train, y_train)"
   ]
  },
  {
   "cell_type": "code",
   "execution_count": null,
   "id": "b1b9be9a",
   "metadata": {},
   "outputs": [],
   "source": [
    "final_df_west_5.head(2)"
   ]
  },
  {
   "cell_type": "code",
   "execution_count": null,
   "id": "fc0c67d2",
   "metadata": {},
   "outputs": [],
   "source": [
    "X_test_ = final_df_west_5[['X','Y','Z','N_X','N_Y','N_Z']]\n",
    "y_test_ = final_df_west_5['cat_label']"
   ]
  },
  {
   "cell_type": "code",
   "execution_count": null,
   "id": "a4e5c55e",
   "metadata": {},
   "outputs": [],
   "source": [
    "y_pred_= rf.predict(X_test_)\n",
    "y_pred_"
   ]
  },
  {
   "cell_type": "code",
   "execution_count": null,
   "id": "7a8588c3",
   "metadata": {},
   "outputs": [],
   "source": [
    "len(y_test_)"
   ]
  },
  {
   "cell_type": "code",
   "execution_count": null,
   "id": "8afbcc4a",
   "metadata": {},
   "outputs": [],
   "source": [
    "accuracy = accuracy_score(y_test_, y_pred_)\n",
    "print(\"Accuracy:\", accuracy)\n",
    "print('Hello')"
   ]
  },
  {
   "cell_type": "code",
   "execution_count": null,
   "id": "b705a5c9",
   "metadata": {},
   "outputs": [],
   "source": [
    "param_dist = {'n_estimators': randint(50,500),\n",
    "              'max_depth': randint(1,20)}\n",
    "\n",
    "# Create a random forest classifier\n",
    "rf = RandomForestClassifier()\n",
    "\n",
    "# Use random search to find the best hyperparameters\n",
    "rand_search = RandomizedSearchCV(rf, \n",
    "                                 param_distributions = param_dist, \n",
    "                                 n_iter=5, \n",
    "                                 cv=5)\n",
    "\n",
    "# Fit the random search object to the data\n",
    "rand_search.fit(X_train, y_train)"
   ]
  },
  {
   "cell_type": "code",
   "execution_count": null,
   "id": "3c2d5ab3",
   "metadata": {},
   "outputs": [],
   "source": [
    "# Create a variable for the best model\n",
    "best_rf = rand_search.best_estimator_\n",
    "\n",
    "# Print the best hyperparameters\n",
    "print('Best hyperparameters:',  rand_search.best_params_)"
   ]
  },
  {
   "cell_type": "code",
   "execution_count": null,
   "id": "e9d554e7",
   "metadata": {},
   "outputs": [],
   "source": [
    "y_pred_ = best_rf.predict(X_test_)"
   ]
  },
  {
   "cell_type": "code",
   "execution_count": null,
   "id": "cd6d5967",
   "metadata": {},
   "outputs": [],
   "source": [
    "# Create the confusion matrix\n",
    "cm = confusion_matrix(y_test_, y_pred_)\n",
    "\n",
    "ConfusionMatrixDisplay(confusion_matrix=cm).plot();  # 'ceiling':0,'floor':1,'stairs':2,'wall':3"
   ]
  },
  {
   "cell_type": "code",
   "execution_count": null,
   "id": "7f13fb93",
   "metadata": {},
   "outputs": [],
   "source": [
    "y_pred_ = best_rf.predict(X_test_)\n",
    "\n",
    "accuracy = accuracy_score(y_test_, y_pred_)\n",
    "print('Accuracy:  {:0.4f}'.format(accuracy))\n"
   ]
  },
  {
   "cell_type": "code",
   "execution_count": null,
   "id": "5ad488ff",
   "metadata": {},
   "outputs": [],
   "source": [
    "from sklearn.metrics import f1_score, precision_score, recall_score\n",
    "\n",
    "f1 = f1_score(y_test_, y_pred_, average='micro')\n",
    "precision = precision_score(y_test_, y_pred_, average='micro')\n",
    "recall = recall_score(y_test_, y_pred_, average='macro')\n",
    "\n",
    "print('F1_score:  {:0.4f}'.format(f1))\n",
    "print('Precision_score:  {:0.4f}'.format(precision))\n",
    "print('Recall_score:  {:0.4f}'.format(recall))"
   ]
  },
  {
   "cell_type": "code",
   "execution_count": null,
   "id": "92495754",
   "metadata": {},
   "outputs": [],
   "source": [
    "import plotly.express as px\n",
    "\n",
    "fig_w5 = px.scatter_3d(final_df_west_5, x='X', y='Y', z='Z',\n",
    "              color='label', size_max=0.002, opacity=0.5,symbol='label')\n",
    "\n",
    "# tight layout\n",
    "#fig_wo.update_layout(margin=dict(l=0, r=0, b=0, t=0))\n",
    "fig_w5.update_layout(title=\"3D-Scatter Plot -WEST- 5 datset\")\n",
    "fig_w5.show()\n"
   ]
  },
  {
   "cell_type": "code",
   "execution_count": null,
   "id": "d9878840",
   "metadata": {},
   "outputs": [],
   "source": [
    "# PLot only floor\n",
    "\n",
    "final_df_west_5_floor = final_df_west_5[(final_df_west_5['label']=='floor') | (final_df_west_5['label']=='ceiling')]\n",
    "import plotly.express as px\n",
    "\n",
    "fig_w5_floor = px.scatter_3d(final_df_west_5_floor, x='X', y='Y', z='Z',\n",
    "              color='label', size_max=0.002, opacity=0.5,symbol='label')\n",
    "\n",
    "# tight layout\n",
    "#fig_wo.update_layout(margin=dict(l=0, r=0, b=0, t=0))\n",
    "fig_w5_floor.update_layout(title=\"3D-Scatter Plot -WEST- 5 Only Floor and Stairs datset\")\n",
    "fig_w5_floor.show()"
   ]
  },
  {
   "cell_type": "code",
   "execution_count": null,
   "id": "4f1f9b90",
   "metadata": {},
   "outputs": [],
   "source": [
    "def compare(df_):\n",
    "    a = df_['ground_truth_label']\n",
    "    b = df_['prediction_label']\n",
    "    \n",
    "    if a !=b:\n",
    "        return 'not_match'\n",
    "    else:\n",
    "        return 'match'"
   ]
  },
  {
   "cell_type": "code",
   "execution_count": null,
   "id": "fee6e8a2",
   "metadata": {},
   "outputs": [],
   "source": [
    "final_df_west_5['prediction_label'] = y_pred_"
   ]
  },
  {
   "cell_type": "code",
   "execution_count": null,
   "id": "b8ea7d45",
   "metadata": {},
   "outputs": [],
   "source": [
    "final_df_west_5['ground_truth_label'] = final_df_west_5['cat_label'].map({0:'ceiling', 1:'floor',2:'stairs', 3:'wall'})\n",
    "final_df_west_5['prediction_label'] = final_df_west_5['prediction_label'].map({0:'ceiling', 1:'floor',2:'stairs', 3:'wall'})"
   ]
  },
  {
   "cell_type": "code",
   "execution_count": null,
   "id": "e5c44d21",
   "metadata": {},
   "outputs": [],
   "source": [
    "final_df_west_5['comparison'] = final_df_west_5[['ground_truth_label','prediction_label']].apply(compare, axis=1)\n",
    "\n",
    "final_df_west_5.to_csv('predictions_python.csv')\n",
    "\n",
    "!pwd"
   ]
  },
  {
   "cell_type": "code",
   "execution_count": null,
   "id": "1b23184c",
   "metadata": {},
   "outputs": [],
   "source": [
    "final_df_west_5.tail(2)"
   ]
  },
  {
   "cell_type": "code",
   "execution_count": null,
   "id": "9ae524c9",
   "metadata": {},
   "outputs": [],
   "source": [
    "fig_gt = px.scatter_3d(final_df_west_5, x='X', y='Y', z='Z',\n",
    "              color='ground_truth_label', size_max=0.0000010, opacity=0.4,symbol='comparison',\n",
    "                   title = 'Ground Truth -$$$')\n",
    "\n",
    "# tight layout\n",
    "#fig.update_layout(margin=dict(l=0, r=0, b=0, t=0))\n",
    "fig_gt.update_layout(title=\"3D-Scatter Plot Ground Truth vs Predicted Output\")\n",
    "\n",
    "fig_gt.show()"
   ]
  },
  {
   "cell_type": "code",
   "execution_count": null,
   "id": "22f9d5d8",
   "metadata": {},
   "outputs": [],
   "source": [
    "from IPython.display import display\n",
    "from PIL import Image\n",
    "\n",
    "\n",
    "path=\"/Users/qwert/Documents/TASKAR/west_5_.jpg\"\n",
    "display(Image.open(path))"
   ]
  },
  {
   "cell_type": "code",
   "execution_count": null,
   "id": "21751b89",
   "metadata": {},
   "outputs": [],
   "source": []
  }
 ],
 "metadata": {
  "kernelspec": {
   "display_name": "Python 3",
   "language": "python",
   "name": "python3"
  },
  "language_info": {
   "codemirror_mode": {
    "name": "ipython",
    "version": 3
   },
   "file_extension": ".py",
   "mimetype": "text/x-python",
   "name": "python",
   "nbconvert_exporter": "python",
   "pygments_lexer": "ipython3",
   "version": "3.8.8"
  }
 },
 "nbformat": 4,
 "nbformat_minor": 5
}
