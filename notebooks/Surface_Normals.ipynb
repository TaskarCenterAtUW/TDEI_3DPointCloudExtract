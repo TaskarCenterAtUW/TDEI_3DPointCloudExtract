{
 "cells": [
  {
   "cell_type": "code",
   "execution_count": null,
   "id": "bd946a3f",
   "metadata": {},
   "outputs": [],
   "source": [
    "import numpy as np\n",
    "from scipy.spatial import distance\n",
    "import matplotlib.pyplot as plt\n",
    "from mpl_toolkits.mplot3d.axes3d import get_test_data\n",
    "from mpl_toolkits.mplot3d import Axes3D\n",
    "import math\n",
    "from math import pi\n"
   ]
  },
  {
   "cell_type": "code",
   "execution_count": null,
   "id": "f7c017c0",
   "metadata": {},
   "outputs": [],
   "source": [
    "def normaldefinition_3D_real(void_data, k):\n",
    "    dist = distance.squareform(distance.pdist(void_data))\n",
    "    closest = np.argsort(dist, axis=1)\n",
    "    \n",
    "    total_pts = np.size(closest,0)\n",
    "    planes = np.zeros((total_pts, 6))\n",
    "    \n",
    "    fig1=plt.figure()\n",
    "    ax = fig1.add_subplot(1,1,1, projection='3d')\n",
    "    ax.scatter(x,y,z, facecolors='none',edgecolors='r')\n",
    "\n",
    "    ax.set_xlabel('X')\n",
    "    ax.set_ylabel('Y')\n",
    "    ax.set_zlabel('Z')\n",
    "    \n",
    "    for i in range(total_pts):\n",
    "        normal_vect, xmn, ymn, zmn, knn_pt_coord = tangentplane_3D_real(closest[i,:], void_data,k)\n",
    "        \n",
    "        planes[i,0:3] = normmal_vect\n",
    "        planes[i,3:6] = np.array([xmn, ymn, zmn])\n",
    "        \n",
    "        ax.scatter(xmn,ymn,zmn, facecolors='none',edgecolors = 'c')\n",
    "        ax.plot([xmn,xmn+normalvect[0]],[ymn,ymn+normalvect[1]],[zmn,zmn+normalvect[2]])\n",
    "        plt.show()\n",
    "        plt.hold(True)\n",
    "    planes_consist = normalconsistency_3D_real(planes)\n",
    "    return  planes,planes_consist\n"
   ]
  },
  {
   "cell_type": "code",
   "execution_count": null,
   "id": "90afc455",
   "metadata": {},
   "outputs": [],
   "source": [
    "def tangentplane_3D_real(closest_pt,ellipsoid_data,k):\n",
    "    knn_pt_id = closest_pt[0:k] # Retain only the indexes of the k-closest points\n",
    "    nb_points = np.size(knn_pt_id)\n",
    "    knn_pt_coord = np.zeros((nb_points,3)) \n",
    "    \n",
    "    for i in range(nb_points):\n",
    "        point_i = knn_pt_id[i]\n",
    "        \n",
    "        knn_pt_coord[i,:] = ellipsoid_data[point_i,:]\n",
    "    \n",
    "    #\"Principal component analysis (PCA)\"\n",
    "    \n",
    "    #\"Centorid calculation\"\n",
    "        \n",
    "    xmn = np.mean(knn_pt_coord[:,0])\n",
    "    ymn = np.mean(knn_pt_coord[:,1])\n",
    "    zmn = np.mean(knn_pt_coord[:,2])\n",
    "    \n",
    "    c=np.zeros((np.size(knn_pt_coord,0),3))\n",
    "    \n",
    "    c[:,0] = knn_pt_coord[:,0]-xmn\n",
    "    c[:,1] = knn_pt_coord[:,1]-ymn\n",
    "    c[:,2] = knn_pt_coord[:,2]-zmn\n",
    "    \n",
    "    #\"Covariance matrix\"\n",
    "    \n",
    "    cov=np.zeros((3,3))    \n",
    "    \n",
    "    cov[0,0] = np.dot(c[:,0],c[:,0])\n",
    "    cov[0,1] = np.dot(c[:,0],c[:,1])\n",
    "    cov[0,2] = np.dot(c[:,0],c[:,2])\n",
    "    \n",
    "    cov[1,0] = cov[0,1]\n",
    "    cov[1,1] = np.dot(c[:,1],c[:,1])\n",
    "    cov[1,2] = np.dot(c[:,1],c[:,2])\n",
    "    \n",
    "    cov[2,0] = cov[0,2]\n",
    "    cov[2,1] = cov[1,2]\n",
    "    cov[2,2] = np.dot(c[:,2],c[:,2])\n",
    "   \n",
    "    #\"Single value decomposition (SVD)\"\n",
    "    \n",
    "    u,s,vh = np.linalg.svd(cov) # U contains the orthonormal eigenvectors and S contains the eigenvectors\n",
    "\n",
    "    #\"Selection of minimum eigenvalue\"\n",
    "    \n",
    "    minevindex = np.argmin(s)\n",
    "    \n",
    "    #\"Selection of orthogonal vector corresponing to this eigenvalue --> vector normal to the plane defined by the kpoints\"\n",
    "    \n",
    "    normal_vect = u[:,minevindex]\n",
    "\n",
    "    return normal_vect, xmn, ymn,zmn,knn_pt_coord\n"
   ]
  },
  {
   "cell_type": "code",
   "execution_count": null,
   "id": "9f2830f7",
   "metadata": {},
   "outputs": [],
   "source": [
    "def normalconsistency_3D_real(planes):\n",
    "    \n",
    "    nbnormals = np.size(planes, 0)\n",
    "    planes_consist=np.zeros((nbnormals,6))\n",
    "    planes_consist[:, 3:6] = planes[:, 3:6] # We just copy the columns corresponding to the coordinates of the centroids (from 3th to 5th)\n",
    "    \n",
    "    #\"\"\" Try the atan2 function : https://uk.mathworks.com/help/vision/ref/pcnormals.html#buxdmoj\"\"\"\n",
    "    \n",
    "    sensorcentre=np.array([0,0,0])\n",
    "    \n",
    "    for i in range(nbnormals):\n",
    "        p1 = (sensorcentre - planes[i,3:6]) / np.linalg.norm(sensorcentre - planes[i,3:6]) # Vector from the centroid to the centre of the ellipsoid (here the sensor is placed)\n",
    "        p2 = planes[i,0:3]\n",
    "        \n",
    "        angle = math.atan2(np.linalg.norm(np.cross(p1,p2)), np.dot(p1,p2) ) # Angle between the centroid-sensor and plane normal\n",
    "       \n",
    "        \n",
    "        if (angle >= -pi/2 and angle <= pi/2): # (angle >= -pi/2 and angle <= pi/2):\n",
    "            \n",
    "            planes_consist[i,0] = -planes[i,0]\n",
    "            planes_consist[i,1] = -planes[i,1]\n",
    "            planes_consist[i,2] = -planes[i,2]  \n",
    "            \n",
    "        else:\n",
    "            \n",
    "            planes_consist[i,0] = planes[i,0]\n",
    "            planes_consist[i,1] = planes[i,1]\n",
    "            planes_consist[i,2] = planes[i,2]\n",
    "\n",
    "    return planes_consist\n"
   ]
  },
  {
   "cell_type": "code",
   "execution_count": null,
   "id": "2b7f45e8",
   "metadata": {},
   "outputs": [],
   "source": [
    "filepath = '/Users/qwert/Documents/TASKAR/ply_data/west3_subsample.ply'"
   ]
  },
  {
   "cell_type": "code",
   "execution_count": null,
   "id": "bf0fcfde",
   "metadata": {},
   "outputs": [],
   "source": [
    "points  = np.fromfile(filepath,dtype=float)\n",
    "points"
   ]
  },
  {
   "cell_type": "code",
   "execution_count": null,
   "id": "5d9b4136",
   "metadata": {},
   "outputs": [],
   "source": [
    "type(points)"
   ]
  },
  {
   "cell_type": "code",
   "execution_count": null,
   "id": "5ad631df",
   "metadata": {},
   "outputs": [],
   "source": []
  },
  {
   "cell_type": "code",
   "execution_count": 2,
   "id": "055e02c3",
   "metadata": {},
   "outputs": [
    {
     "name": "stdout",
     "output_type": "stream",
     "text": [
      "Requirement already satisfied: open3d in /Applications/anaconda3/lib/python3.8/site-packages (0.16.0)\n",
      "Requirement already satisfied: pandas>=1.0 in /Applications/anaconda3/lib/python3.8/site-packages (from open3d) (1.2.4)\n",
      "Requirement already satisfied: configargparse in /Applications/anaconda3/lib/python3.8/site-packages (from open3d) (1.5.3)\n",
      "Requirement already satisfied: scikit-learn>=0.21 in /Applications/anaconda3/lib/python3.8/site-packages (from open3d) (0.24.1)\n",
      "Requirement already satisfied: matplotlib>=3 in /Applications/anaconda3/lib/python3.8/site-packages (from open3d) (3.3.4)\n",
      "Requirement already satisfied: tqdm in /Applications/anaconda3/lib/python3.8/site-packages (from open3d) (4.59.0)\n",
      "Requirement already satisfied: addict in /Applications/anaconda3/lib/python3.8/site-packages (from open3d) (2.4.0)\n",
      "Requirement already satisfied: numpy>=1.18.0 in /Applications/anaconda3/lib/python3.8/site-packages (from open3d) (1.22.4)\n",
      "Requirement already satisfied: pyyaml>=5.4.1 in /Applications/anaconda3/lib/python3.8/site-packages (from open3d) (5.4.1)\n",
      "Requirement already satisfied: pyquaternion in /Applications/anaconda3/lib/python3.8/site-packages (from open3d) (0.9.9)\n",
      "Requirement already satisfied: pillow>=8.2.0 in /Applications/anaconda3/lib/python3.8/site-packages (from open3d) (8.2.0)\n",
      "Requirement already satisfied: nbformat==5.5.0 in /Applications/anaconda3/lib/python3.8/site-packages (from open3d) (5.5.0)\n",
      "Requirement already satisfied: dash>=2.6.0 in /Applications/anaconda3/lib/python3.8/site-packages (from open3d) (2.6.2)\n",
      "Requirement already satisfied: fastjsonschema in /Applications/anaconda3/lib/python3.8/site-packages (from nbformat==5.5.0->open3d) (2.16.2)\n",
      "Requirement already satisfied: jupyter_core in /Applications/anaconda3/lib/python3.8/site-packages (from nbformat==5.5.0->open3d) (4.7.1)\n",
      "Requirement already satisfied: traitlets>=5.1 in /Applications/anaconda3/lib/python3.8/site-packages (from nbformat==5.5.0->open3d) (5.5.0)\n",
      "Requirement already satisfied: jsonschema>=2.6 in /Applications/anaconda3/lib/python3.8/site-packages (from nbformat==5.5.0->open3d) (3.2.0)\n",
      "Requirement already satisfied: Flask>=1.0.4 in /Applications/anaconda3/lib/python3.8/site-packages (from dash>=2.6.0->open3d) (1.1.2)\n",
      "Requirement already satisfied: dash-core-components==2.0.0 in /Applications/anaconda3/lib/python3.8/site-packages (from dash>=2.6.0->open3d) (2.0.0)\n",
      "Requirement already satisfied: dash-table==5.0.0 in /Applications/anaconda3/lib/python3.8/site-packages (from dash>=2.6.0->open3d) (5.0.0)\n",
      "Requirement already satisfied: plotly>=5.0.0 in /Applications/anaconda3/lib/python3.8/site-packages (from dash>=2.6.0->open3d) (5.11.0)\n",
      "Requirement already satisfied: flask-compress in /Applications/anaconda3/lib/python3.8/site-packages (from dash>=2.6.0->open3d) (1.13)\n",
      "Requirement already satisfied: dash-html-components==2.0.0 in /Applications/anaconda3/lib/python3.8/site-packages (from dash>=2.6.0->open3d) (2.0.0)\n",
      "Requirement already satisfied: click>=5.1 in /Applications/anaconda3/lib/python3.8/site-packages (from Flask>=1.0.4->dash>=2.6.0->open3d) (7.1.2)\n",
      "Requirement already satisfied: itsdangerous>=0.24 in /Applications/anaconda3/lib/python3.8/site-packages (from Flask>=1.0.4->dash>=2.6.0->open3d) (1.1.0)\n",
      "Requirement already satisfied: Werkzeug>=0.15 in /Applications/anaconda3/lib/python3.8/site-packages (from Flask>=1.0.4->dash>=2.6.0->open3d) (1.0.1)\n",
      "Requirement already satisfied: Jinja2>=2.10.1 in /Applications/anaconda3/lib/python3.8/site-packages (from Flask>=1.0.4->dash>=2.6.0->open3d) (2.11.3)\n",
      "Requirement already satisfied: MarkupSafe>=0.23 in /Applications/anaconda3/lib/python3.8/site-packages (from Jinja2>=2.10.1->Flask>=1.0.4->dash>=2.6.0->open3d) (1.1.1)\n",
      "Requirement already satisfied: attrs>=17.4.0 in /Applications/anaconda3/lib/python3.8/site-packages (from jsonschema>=2.6->nbformat==5.5.0->open3d) (20.3.0)\n",
      "Requirement already satisfied: setuptools in /Applications/anaconda3/lib/python3.8/site-packages (from jsonschema>=2.6->nbformat==5.5.0->open3d) (52.0.0.post20210125)\n",
      "Requirement already satisfied: pyrsistent>=0.14.0 in /Applications/anaconda3/lib/python3.8/site-packages (from jsonschema>=2.6->nbformat==5.5.0->open3d) (0.17.3)\n",
      "Requirement already satisfied: six>=1.11.0 in /Applications/anaconda3/lib/python3.8/site-packages (from jsonschema>=2.6->nbformat==5.5.0->open3d) (1.15.0)\n",
      "Requirement already satisfied: pyparsing!=2.0.4,!=2.1.2,!=2.1.6,>=2.0.3 in /Applications/anaconda3/lib/python3.8/site-packages (from matplotlib>=3->open3d) (2.4.7)\n",
      "Requirement already satisfied: cycler>=0.10 in /Applications/anaconda3/lib/python3.8/site-packages (from matplotlib>=3->open3d) (0.10.0)\n",
      "Requirement already satisfied: kiwisolver>=1.0.1 in /Applications/anaconda3/lib/python3.8/site-packages (from matplotlib>=3->open3d) (1.3.1)\n",
      "Requirement already satisfied: python-dateutil>=2.1 in /Applications/anaconda3/lib/python3.8/site-packages (from matplotlib>=3->open3d) (2.8.1)\n",
      "Requirement already satisfied: pytz>=2017.3 in /Applications/anaconda3/lib/python3.8/site-packages (from pandas>=1.0->open3d) (2021.1)\n",
      "Requirement already satisfied: tenacity>=6.2.0 in /Applications/anaconda3/lib/python3.8/site-packages (from plotly>=5.0.0->dash>=2.6.0->open3d) (8.1.0)\n",
      "Requirement already satisfied: scipy>=0.19.1 in /Applications/anaconda3/lib/python3.8/site-packages (from scikit-learn>=0.21->open3d) (1.6.2)\n",
      "Requirement already satisfied: joblib>=0.11 in /Applications/anaconda3/lib/python3.8/site-packages (from scikit-learn>=0.21->open3d) (1.0.1)\n",
      "Requirement already satisfied: threadpoolctl>=2.0.0 in /Applications/anaconda3/lib/python3.8/site-packages (from scikit-learn>=0.21->open3d) (2.1.0)\n",
      "Requirement already satisfied: brotli in /Applications/anaconda3/lib/python3.8/site-packages (from flask-compress->dash>=2.6.0->open3d) (1.0.9)\n"
     ]
    }
   ],
   "source": [
    "!pip install open3d"
   ]
  },
  {
   "cell_type": "code",
   "execution_count": 7,
   "id": "1d27904b",
   "metadata": {},
   "outputs": [
    {
     "ename": "ImportError",
     "evalue": "dlopen(/Applications/anaconda3/lib/python3.8/site-packages/open3d/cpu/pybind.cpython-38-darwin.so, 0x0002): Library not loaded: /usr/local/opt/libomp/lib/libomp.dylib\n  Referenced from: <3DD86FDF-C162-3CA9-BE4C-3A6B0DCEBF39> /Applications/anaconda3/lib/python3.8/site-packages/open3d/cpu/pybind.cpython-38-darwin.so\n  Reason: tried: '/usr/local/opt/libomp/lib/libomp.dylib' (no such file), '/System/Volumes/Preboot/Cryptexes/OS/usr/local/opt/libomp/lib/libomp.dylib' (no such file), '/usr/local/opt/libomp/lib/libomp.dylib' (no such file), '/usr/local/lib/libomp.dylib' (no such file), '/usr/lib/libomp.dylib' (no such file, not in dyld cache)",
     "output_type": "error",
     "traceback": [
      "\u001b[0;31m---------------------------------------------------------------------------\u001b[0m",
      "\u001b[0;31mImportError\u001b[0m                               Traceback (most recent call last)",
      "\u001b[0;32m<ipython-input-7-2bb78b04a701>\u001b[0m in \u001b[0;36m<module>\u001b[0;34m\u001b[0m\n\u001b[0;32m----> 1\u001b[0;31m \u001b[0;32mimport\u001b[0m \u001b[0mopen3d\u001b[0m \u001b[0;32mas\u001b[0m \u001b[0mo3d\u001b[0m\u001b[0;34m\u001b[0m\u001b[0;34m\u001b[0m\u001b[0m\n\u001b[0m",
      "\u001b[0;32m/Applications/anaconda3/lib/python3.8/site-packages/open3d/__init__.py\u001b[0m in \u001b[0;36m<module>\u001b[0;34m\u001b[0m\n\u001b[1;32m     95\u001b[0m \u001b[0;34m\u001b[0m\u001b[0m\n\u001b[1;32m     96\u001b[0m \u001b[0;32mif\u001b[0m \u001b[0m__DEVICE_API__\u001b[0m \u001b[0;34m==\u001b[0m \u001b[0;34m'cpu'\u001b[0m\u001b[0;34m:\u001b[0m\u001b[0;34m\u001b[0m\u001b[0;34m\u001b[0m\u001b[0m\n\u001b[0;32m---> 97\u001b[0;31m     from open3d.cpu.pybind import (camera, data, geometry, io, pipelines,\n\u001b[0m\u001b[1;32m     98\u001b[0m                                    utility, t)\n\u001b[1;32m     99\u001b[0m     \u001b[0;32mfrom\u001b[0m \u001b[0mopen3d\u001b[0m\u001b[0;34m.\u001b[0m\u001b[0mcpu\u001b[0m \u001b[0;32mimport\u001b[0m \u001b[0mpybind\u001b[0m\u001b[0;34m\u001b[0m\u001b[0;34m\u001b[0m\u001b[0m\n",
      "\u001b[0;31mImportError\u001b[0m: dlopen(/Applications/anaconda3/lib/python3.8/site-packages/open3d/cpu/pybind.cpython-38-darwin.so, 0x0002): Library not loaded: /usr/local/opt/libomp/lib/libomp.dylib\n  Referenced from: <3DD86FDF-C162-3CA9-BE4C-3A6B0DCEBF39> /Applications/anaconda3/lib/python3.8/site-packages/open3d/cpu/pybind.cpython-38-darwin.so\n  Reason: tried: '/usr/local/opt/libomp/lib/libomp.dylib' (no such file), '/System/Volumes/Preboot/Cryptexes/OS/usr/local/opt/libomp/lib/libomp.dylib' (no such file), '/usr/local/opt/libomp/lib/libomp.dylib' (no such file), '/usr/local/lib/libomp.dylib' (no such file), '/usr/lib/libomp.dylib' (no such file, not in dyld cache)"
     ]
    }
   ],
   "source": [
    "import open3d as o3d"
   ]
  },
  {
   "cell_type": "code",
   "execution_count": 6,
   "id": "c7f9850a",
   "metadata": {},
   "outputs": [
    {
     "name": "stdout",
     "output_type": "stream",
     "text": [
      "Requirement already satisfied: open3d in /Applications/anaconda3/lib/python3.8/site-packages (0.16.0)\n",
      "Requirement already satisfied: pillow>=8.2.0 in /Applications/anaconda3/lib/python3.8/site-packages (from open3d) (8.2.0)\n",
      "Requirement already satisfied: pandas>=1.0 in /Applications/anaconda3/lib/python3.8/site-packages (from open3d) (1.2.4)\n",
      "Requirement already satisfied: pyyaml>=5.4.1 in /Applications/anaconda3/lib/python3.8/site-packages (from open3d) (5.4.1)\n",
      "Requirement already satisfied: scikit-learn>=0.21 in /Applications/anaconda3/lib/python3.8/site-packages (from open3d) (0.24.1)\n",
      "Requirement already satisfied: numpy>1.15 in /Applications/anaconda3/lib/python3.8/site-packages (from open3d) (1.22.4)\n",
      "Requirement already satisfied: pyquaternion in /Applications/anaconda3/lib/python3.8/site-packages (from open3d) (0.9.9)\n",
      "Requirement already satisfied: configargparse in /Applications/anaconda3/lib/python3.8/site-packages (from open3d) (1.5.3)\n",
      "Requirement already satisfied: addict in /Applications/anaconda3/lib/python3.8/site-packages (from open3d) (2.4.0)\n",
      "Requirement already satisfied: dash>=2.6.0 in /Applications/anaconda3/lib/python3.8/site-packages (from open3d) (2.6.2)\n",
      "Requirement already satisfied: tqdm in /Applications/anaconda3/lib/python3.8/site-packages (from open3d) (4.59.0)\n",
      "Requirement already satisfied: matplotlib>=3 in /Applications/anaconda3/lib/python3.8/site-packages (from open3d) (3.3.4)\n",
      "Requirement already satisfied: nbformat==5.5.0 in /Applications/anaconda3/lib/python3.8/site-packages (from open3d) (5.5.0)\n",
      "Requirement already satisfied: traitlets>=5.1 in /Applications/anaconda3/lib/python3.8/site-packages (from nbformat==5.5.0->open3d) (5.5.0)\n",
      "Requirement already satisfied: jsonschema>=2.6 in /Applications/anaconda3/lib/python3.8/site-packages (from nbformat==5.5.0->open3d) (3.2.0)\n",
      "Requirement already satisfied: fastjsonschema in /Applications/anaconda3/lib/python3.8/site-packages (from nbformat==5.5.0->open3d) (2.16.2)\n",
      "Requirement already satisfied: jupyter_core in /Applications/anaconda3/lib/python3.8/site-packages (from nbformat==5.5.0->open3d) (4.7.1)\n",
      "Requirement already satisfied: dash-table==5.0.0 in /Applications/anaconda3/lib/python3.8/site-packages (from dash>=2.6.0->open3d) (5.0.0)\n",
      "Requirement already satisfied: dash-core-components==2.0.0 in /Applications/anaconda3/lib/python3.8/site-packages (from dash>=2.6.0->open3d) (2.0.0)\n",
      "Requirement already satisfied: Flask>=1.0.4 in /Applications/anaconda3/lib/python3.8/site-packages (from dash>=2.6.0->open3d) (1.1.2)\n",
      "Requirement already satisfied: plotly>=5.0.0 in /Applications/anaconda3/lib/python3.8/site-packages (from dash>=2.6.0->open3d) (5.11.0)\n",
      "Requirement already satisfied: flask-compress in /Applications/anaconda3/lib/python3.8/site-packages (from dash>=2.6.0->open3d) (1.13)\n",
      "Requirement already satisfied: dash-html-components==2.0.0 in /Applications/anaconda3/lib/python3.8/site-packages (from dash>=2.6.0->open3d) (2.0.0)\n",
      "Requirement already satisfied: click>=5.1 in /Applications/anaconda3/lib/python3.8/site-packages (from Flask>=1.0.4->dash>=2.6.0->open3d) (7.1.2)\n",
      "Requirement already satisfied: Werkzeug>=0.15 in /Applications/anaconda3/lib/python3.8/site-packages (from Flask>=1.0.4->dash>=2.6.0->open3d) (1.0.1)\n",
      "Requirement already satisfied: itsdangerous>=0.24 in /Applications/anaconda3/lib/python3.8/site-packages (from Flask>=1.0.4->dash>=2.6.0->open3d) (1.1.0)\n",
      "Requirement already satisfied: Jinja2>=2.10.1 in /Applications/anaconda3/lib/python3.8/site-packages (from Flask>=1.0.4->dash>=2.6.0->open3d) (2.11.3)\n",
      "Requirement already satisfied: MarkupSafe>=0.23 in /Applications/anaconda3/lib/python3.8/site-packages (from Jinja2>=2.10.1->Flask>=1.0.4->dash>=2.6.0->open3d) (1.1.1)\n",
      "Requirement already satisfied: pyrsistent>=0.14.0 in /Applications/anaconda3/lib/python3.8/site-packages (from jsonschema>=2.6->nbformat==5.5.0->open3d) (0.17.3)\n",
      "Requirement already satisfied: setuptools in /Applications/anaconda3/lib/python3.8/site-packages (from jsonschema>=2.6->nbformat==5.5.0->open3d) (52.0.0.post20210125)\n",
      "Requirement already satisfied: six>=1.11.0 in /Applications/anaconda3/lib/python3.8/site-packages (from jsonschema>=2.6->nbformat==5.5.0->open3d) (1.15.0)\n",
      "Requirement already satisfied: attrs>=17.4.0 in /Applications/anaconda3/lib/python3.8/site-packages (from jsonschema>=2.6->nbformat==5.5.0->open3d) (20.3.0)\n",
      "Requirement already satisfied: pyparsing!=2.0.4,!=2.1.2,!=2.1.6,>=2.0.3 in /Applications/anaconda3/lib/python3.8/site-packages (from matplotlib>=3->open3d) (2.4.7)\n",
      "Requirement already satisfied: kiwisolver>=1.0.1 in /Applications/anaconda3/lib/python3.8/site-packages (from matplotlib>=3->open3d) (1.3.1)\n",
      "Requirement already satisfied: cycler>=0.10 in /Applications/anaconda3/lib/python3.8/site-packages (from matplotlib>=3->open3d) (0.10.0)\n",
      "Requirement already satisfied: python-dateutil>=2.1 in /Applications/anaconda3/lib/python3.8/site-packages (from matplotlib>=3->open3d) (2.8.1)\n",
      "Requirement already satisfied: pytz>=2017.3 in /Applications/anaconda3/lib/python3.8/site-packages (from pandas>=1.0->open3d) (2021.1)\n",
      "Requirement already satisfied: tenacity>=6.2.0 in /Applications/anaconda3/lib/python3.8/site-packages (from plotly>=5.0.0->dash>=2.6.0->open3d) (8.1.0)\n",
      "Requirement already satisfied: threadpoolctl>=2.0.0 in /Applications/anaconda3/lib/python3.8/site-packages (from scikit-learn>=0.21->open3d) (2.1.0)\n",
      "Requirement already satisfied: scipy>=0.19.1 in /Applications/anaconda3/lib/python3.8/site-packages (from scikit-learn>=0.21->open3d) (1.6.2)\n",
      "Requirement already satisfied: joblib>=0.11 in /Applications/anaconda3/lib/python3.8/site-packages (from scikit-learn>=0.21->open3d) (1.0.1)\n",
      "Requirement already satisfied: brotli in /Applications/anaconda3/lib/python3.8/site-packages (from flask-compress->dash>=2.6.0->open3d) (1.0.9)\n"
     ]
    }
   ],
   "source": [
    "! pip install open3d"
   ]
  },
  {
   "cell_type": "code",
   "execution_count": null,
   "id": "c5b54919",
   "metadata": {},
   "outputs": [],
   "source": []
  }
 ],
 "metadata": {
  "kernelspec": {
   "display_name": "Python 3",
   "language": "python",
   "name": "python3"
  },
  "language_info": {
   "codemirror_mode": {
    "name": "ipython",
    "version": 3
   },
   "file_extension": ".py",
   "mimetype": "text/x-python",
   "name": "python",
   "nbconvert_exporter": "python",
   "pygments_lexer": "ipython3",
   "version": "3.8.8"
  }
 },
 "nbformat": 4,
 "nbformat_minor": 5
}
